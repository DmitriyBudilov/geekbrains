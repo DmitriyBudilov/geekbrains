{
 "cells": [
  {
   "cell_type": "markdown",
   "id": "typical-notification",
   "metadata": {},
   "source": [
    "<h1>Задание к уроку 1:</h1> <h3>\"Случайные события. Условная вероятность. Формула Байеса. Независимые испытания\"</h3>"
   ]
  },
  {
   "cell_type": "markdown",
   "id": "grateful-pilot",
   "metadata": {},
   "source": [
    "__1)  Из колоды в 52 карты извлекаются случайным образом 4 карты.\n",
    "a) Найти вероятность того, что все карты – крести. \n",
    "б) Найти вероятность, что среди 4-х карт окажется хотя бы один туз.__"
   ]
  },
  {
   "cell_type": "markdown",
   "id": "color-fruit",
   "metadata": {},
   "source": [
    "__2) На входной двери подъезда установлен кодовый замок, содержащий десять кнопок с цифрами от 0 до 9. Код содержит три цифры, которые нужно нажать одновременно. Какова вероятность того, что человек, не знающий код, откроет дверь с первой попытки?__"
   ]
  },
  {
   "cell_type": "markdown",
   "id": "divided-sucking",
   "metadata": {},
   "source": [
    "__3) В ящике имеется 15 деталей, из которых 9 окрашены. Рабочий случайным образом извлекает 3 детали. Какова вероятность того, что все извлеченные детали окрашены?__"
   ]
  },
  {
   "cell_type": "markdown",
   "id": "registered-tension",
   "metadata": {},
   "source": [
    "__4) В лотерее 100 билетов. Из них 2 выигрышных. Какова вероятность того, что 2 приобретенных билета окажутся выигрышными?__"
   ]
  }
 ],
 "metadata": {
  "kernelspec": {
   "display_name": "Python 3",
   "language": "python",
   "name": "python3"
  },
  "language_info": {
   "codemirror_mode": {
    "name": "ipython",
    "version": 3
   },
   "file_extension": ".py",
   "mimetype": "text/x-python",
   "name": "python",
   "nbconvert_exporter": "python",
   "pygments_lexer": "ipython3",
   "version": "3.8.5"
  }
 },
 "nbformat": 4,
 "nbformat_minor": 5
}
