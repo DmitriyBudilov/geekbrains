{
 "cells": [
  {
   "cell_type": "markdown",
   "id": "centered-myanmar",
   "metadata": {},
   "source": [
    "<h1>Задание к уроку 7:</h1> <h3>\"Многомерный статистический анализ. Линейная регрессия.\"</h3>"
   ]
  },
  {
   "cell_type": "markdown",
   "id": "mineral-coaching",
   "metadata": {},
   "source": [
    "__1) Даны значения величины заработной платы заемщиков банка (zp) и значения их поведенческого кредитного скоринга (ks): zp = [35, 45, 190, 200, 40, 70, 54, 150, 120, 110], ks = [401, 574, 874, 919, 459, 739, 653, 902, 746, 832]. Используя математические операции, посчитать коэффициенты линейной регрессии, приняв за X заработную плату (то есть, zp - признак), а за y - значения скорингового балла (то есть, ks - целевая переменная). Произвести расчет как с использованием intercept, так и без.__"
   ]
  },
  {
   "cell_type": "markdown",
   "id": "adolescent-warren",
   "metadata": {},
   "source": []
  },
  {
   "cell_type": "markdown",
   "id": "favorite-milan",
   "metadata": {},
   "source": [
    "__2) Посчитать коэффициент линейной регрессии при заработной плате (zp), используя градиентный спуск (без intercept).__"
   ]
  },
  {
   "cell_type": "markdown",
   "id": "champion-pressure",
   "metadata": {},
   "source": []
  },
  {
   "cell_type": "markdown",
   "id": "flush-edition",
   "metadata": {},
   "source": [
    "__*3) Произвести вычисления как в пункте 2, но с вычислением intercept. Учесть, что изменение коэффициентов должно производиться на каждом шаге одновременно (то есть изменение одного коэффициента не должно влиять на изменение другого во время одной итерации).__"
   ]
  },
  {
   "cell_type": "markdown",
   "id": "fatty-cement",
   "metadata": {},
   "source": []
  }
 ],
 "metadata": {
  "kernelspec": {
   "display_name": "Python 3",
   "language": "python",
   "name": "python3"
  },
  "language_info": {
   "codemirror_mode": {
    "name": "ipython",
    "version": 3
   },
   "file_extension": ".py",
   "mimetype": "text/x-python",
   "name": "python",
   "nbconvert_exporter": "python",
   "pygments_lexer": "ipython3",
   "version": "3.8.5"
  }
 },
 "nbformat": 4,
 "nbformat_minor": 5
}
