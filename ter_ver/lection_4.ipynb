{
 "cells": [
  {
   "cell_type": "markdown",
   "id": "eastern-phoenix",
   "metadata": {},
   "source": [
    "### Урок 4. Непрерывные случайные величины. Функция распределения и плотность распределения вероятностей. Равномерное и нормальное распределение. Центральная предельная теорема"
   ]
  },
  {
   "cell_type": "markdown",
   "id": "internal-termination",
   "metadata": {},
   "source": [
    "__Непрерывная случайная величина__ - это величина, которая может принимать все возможные значения, содержащиеся на промежутке, причём этот промежуток может быть как конечным(ограниченным), так и безконечным."
   ]
  },
  {
   "cell_type": "markdown",
   "id": "approved-agriculture",
   "metadata": {},
   "source": [
    "__Функция распределения вероятностей__ - это такая функция $F(x)$, которая для каждого значения $x$ показывает, какова вероятность того, что случайная вероятность меньше или равна $x$."
   ]
  },
  {
   "cell_type": "markdown",
   "id": "aggressive-costume",
   "metadata": {},
   "source": [
    "__Плотность распределения вероятностей__ - это функция $f(x)$, которая равна производной функции распределения вероятностей: $$ f(x)=F'(x) $$"
   ]
  },
  {
   "cell_type": "markdown",
   "id": "severe-cover",
   "metadata": {},
   "source": [
    "__Нормальное распределение (распределение по Гаусу)__ - это распределение вероятностей непрерывной случайной величины $X$, плотность вероятностей которой подчиняется формуле: \n",
    "$$ f(x) = \\frac{1}{\\sigma\\sqrt{2\\pi}}\\cdot e^{-\\frac{(x-a)^2}{2\\sigma^2}} $$\n",
    "где $a=M(X),\\,\\, \\sigma^2=D(X)$"
   ]
  }
 ],
 "metadata": {
  "kernelspec": {
   "display_name": "Python 3",
   "language": "python",
   "name": "python3"
  },
  "language_info": {
   "codemirror_mode": {
    "name": "ipython",
    "version": 3
   },
   "file_extension": ".py",
   "mimetype": "text/x-python",
   "name": "python",
   "nbconvert_exporter": "python",
   "pygments_lexer": "ipython3",
   "version": "3.8.5"
  }
 },
 "nbformat": 4,
 "nbformat_minor": 5
}
