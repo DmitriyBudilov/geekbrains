{
 "cells": [
  {
   "cell_type": "markdown",
   "id": "centered-myanmar",
   "metadata": {},
   "source": [
    "<h1>Задание к уроку 3:</h1> <h3>\"Описательная статистика. Качественные и количественные характеристики популяции. Графическое представление данных\"</h3>"
   ]
  },
  {
   "cell_type": "markdown",
   "id": "mineral-coaching",
   "metadata": {},
   "source": [
    "__1) Даны значения зарплат из выборки выпускников: 100, 80, 75, 77, 89, 33, 45, 25, 65, 17, 30, 24, 57, 55, 70, 75, 65, 84, 90, 150. Посчитать (желательно без использования статистических методов наподобие std, var, mean) среднее арифметическое, среднее квадратичное отклонение, смещенную и несмещенную оценки дисперсий для данной выборки.__"
   ]
  },
  {
   "cell_type": "markdown",
   "id": "adolescent-warren",
   "metadata": {},
   "source": [
    "Среднее арифметическое:\n",
    "\n",
    "$$ M(X) = \\frac{1}{n}\\cdot\\sum_{j=1}^{n} x_{i} = \\frac{1}{n}\\cdot(x_{1}+\\cdots+x_{n}) = $$\n",
    "\n",
    "$$ = \\frac{(100 + 80 + 75 + 77 + 89 + 33 + 45 + 25 + 65 + 17 + 30 + 24 + 57 + 55 + 70 + 75 + 65 + 84 + 90 +150)}{20} = 1306 $$\n",
    "\n",
    "Cреднее квадратичное отклонение:\n",
    "\n",
    "$$ S = \\sqrt[]{\\frac{\\sum_{n}^{i=1}\\cdot(x_{i}-\\overline{x})^{2}}{n-1}} = \\sqrt[]{\\frac{19002.2}{20-1}} = \\sqrt[]{1000.12} = 31.62 $$\n",
    "\n",
    "Несмещенная оценка дисперсий:\n",
    "\n",
    "$$ S^{2} = \\frac{\\sum_{n}^{i=1}\\cdot(x_{i}-\\overline{x})^{2}}{n-1} = \\frac{19002.2}{20-1} = 1000.12$$\n",
    "\n",
    "Смещенная оценка дисперсий:\n",
    "\n",
    "$$ S^{2} = \\frac{\\sum_{n}^{i=1}\\cdot(x_{i}-\\overline{x})^2}{n} = \\frac{19002.2}{20} = 950.11$$"
   ]
  },
  {
   "cell_type": "code",
   "execution_count": 30,
   "id": "confident-bhutan",
   "metadata": {},
   "outputs": [
    {
     "name": "stdout",
     "output_type": "stream",
     "text": [
      "Количестко измерений выборки: 20 измерений\n",
      "Среднее арифметическое значение равно: 65.3\n",
      "Среднее квадратичное отклонение равно: 31.62\n",
      "Несмещенная оценка дисперсии для данной выборки: 1000.12\n",
      "Смещенная оценка дисперсии для данной выборки: 950.11\n"
     ]
    }
   ],
   "source": [
    "import numpy as np\n",
    "from math import sqrt\n",
    "salary = np.array([100, 80, 75, 77, 89, 33, 45, 25, 65, 17, 30, 24, 57, 55, 70, 75, 65, 84, 90, 150])\n",
    "salary.sort()\n",
    "print(f'Количестко измерений выборки: {len(salary)} измерений')\n",
    "print(f'Среднее арифметическое значение равно: {sum(salary)/len(salary)}')\n",
    "print(f'Среднее квадратичное отклонение равно: {round(np.std(salary, ddof=1), 2)}')\n",
    "print(f'Несмещенная оценка дисперсии для данной выборки: {round(np.var(salary, ddof=1), 2)}')\n",
    "print(f'Смещенная оценка дисперсии для данной выборки: {round(np.var(salary), 2)}')"
   ]
  },
  {
   "cell_type": "markdown",
   "id": "favorite-milan",
   "metadata": {},
   "source": [
    "__2) В первом ящике находится 8 мячей, из которых 5 - белые. Во втором ящике - 12 мячей, из которых 5 белых. Из первого ящика вытаскивают случайным образом два мяча, из второго - 4. Какова вероятность того, что 3 мяча белые?__"
   ]
  },
  {
   "cell_type": "markdown",
   "id": "equal-portsmouth",
   "metadata": {},
   "source": []
  },
  {
   "cell_type": "markdown",
   "id": "featured-image",
   "metadata": {},
   "source": [
    "__3) На соревновании по биатлону один из трех спортсменов стреляет и попадает в мишень. Вероятность попадания для первого спортсмена равна 0.9, для второго — 0.8, для третьего — 0.6. Найти вероятность того, что выстрел произведен:__"
   ]
  },
  {
   "cell_type": "markdown",
   "id": "champion-pressure",
   "metadata": {},
   "source": [
    "a). первым спортсменом"
   ]
  },
  {
   "cell_type": "markdown",
   "id": "reported-planet",
   "metadata": {},
   "source": [
    "$$ p = 0.9  $$"
   ]
  },
  {
   "cell_type": "markdown",
   "id": "lesser-conservative",
   "metadata": {},
   "source": [
    "б). вторым спортсменом"
   ]
  },
  {
   "cell_type": "markdown",
   "id": "orange-bottle",
   "metadata": {},
   "source": []
  },
  {
   "cell_type": "markdown",
   "id": "cooperative-warner",
   "metadata": {},
   "source": [
    "в). третьим спортсменом."
   ]
  },
  {
   "cell_type": "markdown",
   "id": "following-polymer",
   "metadata": {},
   "source": []
  },
  {
   "cell_type": "markdown",
   "id": "discrete-force",
   "metadata": {},
   "source": [
    "__4) В университет на факультеты A и B поступило равное количество студентов, а на факультет C студентов поступило столько же, сколько на A и B вместе. Вероятность того, что студент факультета A сдаст первую сессию, равна 0.8. Для студента факультета B эта вероятность равна 0.7, а для студента факультета C - 0.9. Студент сдал первую сессию. Какова вероятность, что он учится:__"
   ]
  },
  {
   "cell_type": "markdown",
   "id": "continent-brooks",
   "metadata": {},
   "source": [
    " a). на факультете A"
   ]
  },
  {
   "cell_type": "markdown",
   "id": "sweet-friendly",
   "metadata": {},
   "source": []
  },
  {
   "cell_type": "markdown",
   "id": "stuck-rental",
   "metadata": {},
   "source": [
    "б). на факультете B "
   ]
  },
  {
   "cell_type": "markdown",
   "id": "simplified-moisture",
   "metadata": {},
   "source": []
  },
  {
   "cell_type": "markdown",
   "id": "incident-employer",
   "metadata": {},
   "source": [
    "в). на факультете C?"
   ]
  },
  {
   "cell_type": "markdown",
   "id": "damaged-timeline",
   "metadata": {},
   "source": []
  },
  {
   "cell_type": "markdown",
   "id": "unauthorized-movie",
   "metadata": {},
   "source": [
    "__5) Устройство состоит из трех деталей. Для первой детали вероятность выйти из строя в первый месяц равна 0.1, для второй - 0.2, для третьей - 0.25. Какова вероятность того, что в первый месяц выйдут из строя:__\n",
    "\n",
    "$$ p_{1} = 0.1; \\,\\, p_{2} = 0.2; \\,\\, p_{3} = 0.25$$"
   ]
  },
  {
   "cell_type": "markdown",
   "id": "detected-article",
   "metadata": {},
   "source": [
    "#### а). все детали "
   ]
  },
  {
   "cell_type": "markdown",
   "id": "functioning-employment",
   "metadata": {},
   "source": [
    "$$ P = p_{1} \\cdot p_{2} \\cdot p_{3} = 0.1\\cdot0.2\\cdot0.25 = 0.005$$"
   ]
  },
  {
   "cell_type": "markdown",
   "id": "premium-discretion",
   "metadata": {},
   "source": [
    "#### б). только две детали "
   ]
  },
  {
   "cell_type": "markdown",
   "id": "pleasant-scott",
   "metadata": {},
   "source": [
    "Вероятности того, что станки не выйдут из строя равны:\n",
    "\n",
    "$$ q_{1} = 1-p_{1} = 0.9; \\,\\, q_{2} = 1-p_{2} = 0.8; \\,\\, q_{3} = 1-q_{3} = 0.75\\,\\,$$\n",
    "\n",
    "Тогда вероятность того, что выйдет из строя только две детали равна:\n",
    "\n",
    "$$ P = q_{1} \\cdot p_{2} \\cdot p_{3} + p_{1} \\cdot q_{2} \\cdot p_{3} + p_{1} \\cdot p_{2} \\cdot q_{3} = $$\n",
    "\n",
    "$$ 0.9\\cdot0.2\\cdot0.25 + 0.1\\cdot0.8\\cdot0.25 + 0.1\\cdot0.2\\cdot0.75 = 0.045 + 0.02 + 0.015 = 0.08 $$"
   ]
  },
  {
   "cell_type": "markdown",
   "id": "emerging-uniform",
   "metadata": {},
   "source": [
    "#### в). хотя бы одна деталь "
   ]
  },
  {
   "cell_type": "markdown",
   "id": "guided-turkey",
   "metadata": {},
   "source": [
    "Найдём вероятность, что за месяц не выйдет из строя ни одна деталь:\n",
    "\n",
    "$$ \\overline P = \\overline P_{1} \\cdot \\overline P_{2} \\cdot \\overline P_{3} = (1 - 0.1)\\cdot (1 - 0.2)\\cdot (1 - 0.25) = 0.9 \\cdot 0.8 \\cdot 0.75 = 0.54$$\n",
    "\n",
    "Тогда вероятность того, что хотябы один станок выйдет из строя равна:\n",
    "\n",
    "$$ P = 1 - \\overline P = 1 - 0.54 = 0.46 $$"
   ]
  },
  {
   "cell_type": "markdown",
   "id": "nutritional-excitement",
   "metadata": {},
   "source": [
    "#### г). от одной до двух деталей?"
   ]
  },
  {
   "cell_type": "markdown",
   "id": "chronic-thesaurus",
   "metadata": {},
   "source": [
    "Вероятность выхода из строя строго от одной до двух деталей можно получить, вычтя из вероятности выхода из строя хотябы одной детали(включающей выход из строй 2-х и 3-х деталей) вероятность выхода из строя 3-х(то есть всех) деталей:\n",
    "\n",
    "$$ P = 0.46-0.005 = 0.455 $$"
   ]
  }
 ],
 "metadata": {
  "kernelspec": {
   "display_name": "Python 3",
   "language": "python",
   "name": "python3"
  },
  "language_info": {
   "codemirror_mode": {
    "name": "ipython",
    "version": 3
   },
   "file_extension": ".py",
   "mimetype": "text/x-python",
   "name": "python",
   "nbconvert_exporter": "python",
   "pygments_lexer": "ipython3",
   "version": "3.8.5"
  }
 },
 "nbformat": 4,
 "nbformat_minor": 5
}
