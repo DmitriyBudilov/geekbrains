{
 "cells": [
  {
   "cell_type": "markdown",
   "id": "primary-ranch",
   "metadata": {},
   "source": [
    "## Работа над ошибками"
   ]
  },
  {
   "cell_type": "markdown",
   "id": "stylish-disposition",
   "metadata": {},
   "source": [
    "__4) В первом ящике находится 10 мячей, из которых 7 - белые. Во втором ящике - 11 мячей, из которых 9 белых. Из каждого ящика вытаскивают случайным образом по два мяча. Какова вероятность того, что хотя бы один мяч белый?__"
   ]
  },
  {
   "cell_type": "markdown",
   "id": "illegal-exercise",
   "metadata": {},
   "source": [
    "Вероятность того, что не будет вытащено ни одного белого мяча:\n",
    "\n",
    "$$ P_{1} = \\frac{3}{10}\\cdot\\frac{2}{9}\\cdot\\frac{2}{11}\\cdot\\frac{1}{10} = 0.00(12) $$\n",
    "\n",
    "Тогда вероятность того, что хотя бы один вытащенный мяч будет белым равна:\n",
    "\n",
    "$$ P = 1 - 0.00(12) = 0.99(87) $$"
   ]
  }
 ],
 "metadata": {
  "kernelspec": {
   "display_name": "Python 3",
   "language": "python",
   "name": "python3"
  },
  "language_info": {
   "codemirror_mode": {
    "name": "ipython",
    "version": 3
   },
   "file_extension": ".py",
   "mimetype": "text/x-python",
   "name": "python",
   "nbconvert_exporter": "python",
   "pygments_lexer": "ipython3",
   "version": "3.8.5"
  }
 },
 "nbformat": 4,
 "nbformat_minor": 5
}
