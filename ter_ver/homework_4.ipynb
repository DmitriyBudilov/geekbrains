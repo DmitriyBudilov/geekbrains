{
 "cells": [
  {
   "cell_type": "markdown",
   "id": "centered-myanmar",
   "metadata": {},
   "source": [
    "<h1>Задание к уроку 3:</h1> <h3>\"Непрерывные случайные величины. Функция распределения и плотность распределения вероятностей. Равномерное и нормальное распределение. Центральная предельная теорема\"</h3>"
   ]
  },
  {
   "cell_type": "markdown",
   "id": "mineral-coaching",
   "metadata": {},
   "source": [
    "__1) Случайная непрерывная величина A имеет равномерное распределение на промежутке (200, 800].\n",
    "Найдите ее среднее значение и дисперсию.__"
   ]
  },
  {
   "cell_type": "markdown",
   "id": "adolescent-warren",
   "metadata": {},
   "source": []
  },
  {
   "cell_type": "code",
   "execution_count": null,
   "id": "confident-bhutan",
   "metadata": {},
   "outputs": [],
   "source": []
  },
  {
   "cell_type": "markdown",
   "id": "favorite-milan",
   "metadata": {},
   "source": [
    "__2) О случайной непрерывной равномерно распределенной величине B известно, что ее дисперсия равна 0.2.\n",
    "Можно ли найти правую границу величины B и ее среднее значение зная, что левая граница равна 0.5?\n",
    "Если да, найдите ее.__"
   ]
  },
  {
   "cell_type": "markdown",
   "id": "equal-portsmouth",
   "metadata": {},
   "source": []
  },
  {
   "cell_type": "code",
   "execution_count": null,
   "id": "cutting-guinea",
   "metadata": {},
   "outputs": [],
   "source": []
  },
  {
   "cell_type": "markdown",
   "id": "featured-image",
   "metadata": {},
   "source": [
    "__3) Непрерывная случайная величина $ X $ распределена нормально и задана плотностью распределения\n",
    "$ f(x) = \\frac{1}{4 \\cdot \\sqrt{2\\pi}} \\cdot \\exp(-\\frac{(x+2)^{2}}{32})$ <br>\n",
    "Найдите:__"
   ]
  },
  {
   "cell_type": "markdown",
   "id": "balanced-reply",
   "metadata": {},
   "source": []
  },
  {
   "cell_type": "markdown",
   "id": "champion-pressure",
   "metadata": {},
   "source": [
    "а). M(X)"
   ]
  },
  {
   "cell_type": "markdown",
   "id": "reported-planet",
   "metadata": {},
   "source": []
  },
  {
   "cell_type": "markdown",
   "id": "lesser-conservative",
   "metadata": {},
   "source": [
    "б). D(X)"
   ]
  },
  {
   "cell_type": "markdown",
   "id": "orange-bottle",
   "metadata": {},
   "source": []
  },
  {
   "cell_type": "markdown",
   "id": "cooperative-warner",
   "metadata": {},
   "source": [
    "в). std(X) (среднее квадратичное отклонение)"
   ]
  },
  {
   "cell_type": "markdown",
   "id": "following-polymer",
   "metadata": {},
   "source": []
  },
  {
   "cell_type": "markdown",
   "id": "discrete-force",
   "metadata": {},
   "source": [
    "__4) Рост взрослого населения города X имеет нормальное распределение.\n",
    "Причем, средний рост равен 174 см, а среднее квадратичное отклонение равно 8 см.\n",
    "Какова вероятность того, что случайным образом выбранный взрослый человек имеет рост:__"
   ]
  },
  {
   "cell_type": "markdown",
   "id": "caring-malaysia",
   "metadata": {},
   "source": [
    "а). больше 182 см"
   ]
  },
  {
   "cell_type": "markdown",
   "id": "monetary-arrival",
   "metadata": {},
   "source": []
  },
  {
   "cell_type": "markdown",
   "id": "continent-brooks",
   "metadata": {},
   "source": [
    "б). больше 190 см"
   ]
  },
  {
   "cell_type": "markdown",
   "id": "increasing-disability",
   "metadata": {},
   "source": []
  },
  {
   "cell_type": "markdown",
   "id": "sweet-friendly",
   "metadata": {},
   "source": [
    "в). от 166 см до 190 см"
   ]
  },
  {
   "cell_type": "markdown",
   "id": "serial-recording",
   "metadata": {},
   "source": []
  },
  {
   "cell_type": "markdown",
   "id": "stuck-rental",
   "metadata": {},
   "source": [
    "г). от 166 см до 182 см"
   ]
  },
  {
   "cell_type": "markdown",
   "id": "suited-scroll",
   "metadata": {},
   "source": []
  },
  {
   "cell_type": "markdown",
   "id": "simplified-moisture",
   "metadata": {},
   "source": [
    "д). от 158 см до 190 см"
   ]
  },
  {
   "cell_type": "markdown",
   "id": "gentle-block",
   "metadata": {},
   "source": []
  },
  {
   "cell_type": "markdown",
   "id": "incident-employer",
   "metadata": {},
   "source": [
    "е). не выше 150 см или не ниже 190 см"
   ]
  },
  {
   "cell_type": "markdown",
   "id": "unable-samuel",
   "metadata": {},
   "source": []
  },
  {
   "cell_type": "markdown",
   "id": "damaged-timeline",
   "metadata": {},
   "source": [
    "ё). не выше 150 см или не ниже 198 см"
   ]
  },
  {
   "cell_type": "markdown",
   "id": "nominated-inspection",
   "metadata": {},
   "source": []
  },
  {
   "cell_type": "markdown",
   "id": "precise-racing",
   "metadata": {},
   "source": [
    "ж). ниже 166 см."
   ]
  },
  {
   "cell_type": "markdown",
   "id": "biological-evidence",
   "metadata": {},
   "source": []
  },
  {
   "cell_type": "markdown",
   "id": "unauthorized-movie",
   "metadata": {},
   "source": [
    "__5) На сколько сигм (средних квадратичных отклонений) отклоняется рост человека, равный 190 см, от\n",
    "математического ожидания роста в популяции, в которой M(X) = 178 см и D(X) = 25 кв.см?__"
   ]
  },
  {
   "cell_type": "markdown",
   "id": "detected-article",
   "metadata": {},
   "source": []
  }
 ],
 "metadata": {
  "kernelspec": {
   "display_name": "Python 3",
   "language": "python",
   "name": "python3"
  },
  "language_info": {
   "codemirror_mode": {
    "name": "ipython",
    "version": 3
   },
   "file_extension": ".py",
   "mimetype": "text/x-python",
   "name": "python",
   "nbconvert_exporter": "python",
   "pygments_lexer": "ipython3",
   "version": "3.8.5"
  }
 },
 "nbformat": 4,
 "nbformat_minor": 5
}
