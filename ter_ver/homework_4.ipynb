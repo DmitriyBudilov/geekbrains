{
 "cells": [
  {
   "cell_type": "markdown",
   "id": "centered-myanmar",
   "metadata": {},
   "source": [
    "<h1>Задание к уроку 4:</h1> <h3>\"Непрерывные случайные величины. Функция распределения и плотность распределения вероятностей. Равномерное и нормальное распределение. Центральная предельная теорема\"</h3>"
   ]
  },
  {
   "cell_type": "markdown",
   "id": "mineral-coaching",
   "metadata": {},
   "source": [
    "__1) Случайная непрерывная величина A имеет равномерное распределение на промежутке (200, 800].\n",
    "Найдите ее среднее значение и дисперсию.__"
   ]
  },
  {
   "cell_type": "markdown",
   "id": "adolescent-warren",
   "metadata": {},
   "source": [
    "$$ M(X) = \\frac{200+800}{2} = 500 \\\\ D(X) = \\frac{(800-200)^{2}}{12} = \\frac{360000}{12} = 30000$$"
   ]
  },
  {
   "cell_type": "markdown",
   "id": "favorite-milan",
   "metadata": {},
   "source": [
    "__2) О случайной непрерывной равномерно распределенной величине B известно, что ее дисперсия равна 0.2.\n",
    "Можно ли найти правую границу величины B и ее среднее значение зная, что левая граница равна 0.5?\n",
    "Если да, найдите ее.__"
   ]
  },
  {
   "cell_type": "markdown",
   "id": "equal-portsmouth",
   "metadata": {},
   "source": [
    "$$ D(X) = 0.2;\\,\\, b = 0.5 \\\\ D(X)=\\frac{(b-a)^{2}}{12} \\\\ (b-a)^2 = 0.2\\cdot12=2.4; \\,\\, b-a=\\sqrt{2.4}=1.55 \\\\  b=1.55+a=1.55+0.5=2.05\\\\M(X)=\\frac{2.05+0.5}{2}=1.275$$"
   ]
  },
  {
   "cell_type": "markdown",
   "id": "featured-image",
   "metadata": {},
   "source": [
    "__3) Непрерывная случайная величина $ X $ распределена нормально и задана плотностью распределения\n",
    "$ f(x) = \\frac{1}{4 \\cdot \\sqrt{2\\pi}} \\cdot \\exp(-\\frac{(x+2)^{2}}{32})$ <br>\n",
    "Найдите:__"
   ]
  },
  {
   "cell_type": "markdown",
   "id": "champion-pressure",
   "metadata": {},
   "source": [
    "а). M(X) "
   ]
  },
  {
   "cell_type": "markdown",
   "id": "related-error",
   "metadata": {},
   "source": [
    "$$ M(X) = -2 $$"
   ]
  },
  {
   "cell_type": "markdown",
   "id": "lesser-conservative",
   "metadata": {},
   "source": [
    "б). D(X)"
   ]
  },
  {
   "cell_type": "markdown",
   "id": "orange-bottle",
   "metadata": {},
   "source": [
    "$$ D(X) = 16 $$"
   ]
  },
  {
   "cell_type": "markdown",
   "id": "cooperative-warner",
   "metadata": {},
   "source": [
    "в). std(X) (среднее квадратичное отклонение)"
   ]
  },
  {
   "cell_type": "markdown",
   "id": "following-polymer",
   "metadata": {},
   "source": [
    "$$ \\sigma = \\sqrt{(D(x)} = \\sqrt{16} = 4$$"
   ]
  },
  {
   "cell_type": "markdown",
   "id": "discrete-force",
   "metadata": {},
   "source": [
    "__4) Рост взрослого населения города X имеет нормальное распределение.\n",
    "Причем, средний рост равен 174 см, а среднее квадратичное отклонение равно 8 см.\n",
    "Какова вероятность того, что случайным образом выбранный взрослый человек имеет рост:__"
   ]
  },
  {
   "cell_type": "markdown",
   "id": "medical-cleaner",
   "metadata": {},
   "source": [
    "$$ \\mu = 174;\\,\\,\\sigma = 8=34\\%; \\,\\,2\\sigma = 16 = 47.7\\%;\\,\\, 3\\sigma = 24 = 49.85\\%\\\\\\mu - \\sigma = 166 ;\\,\\, \\mu + \\sigma = 182, \\,\\, от\\, -\\sigma\\,\\, до\\, +\\sigma \\,-\\, 68\\%\\\\ \\mu - 2\\sigma = 158 ;\\,\\, \\mu + 2\\sigma = 190, \\,\\, от\\, -2\\sigma\\,\\, до\\, +2\\sigma \\,-\\, 95.4\\%\\\\ \\mu - 3\\sigma = 150 ;\\,\\, \\mu + 3\\sigma = 198, \\,\\, от\\, -3\\sigma\\,\\, до\\, +3\\sigma \\,-\\, 99.72\\%$$"
   ]
  },
  {
   "cell_type": "markdown",
   "id": "caring-malaysia",
   "metadata": {},
   "source": [
    "а). больше 182 см"
   ]
  },
  {
   "cell_type": "markdown",
   "id": "stunning-costa",
   "metadata": {},
   "source": [
    "от $+\\sigma$\n",
    "$$ P = 100\\% - (3\\sigma+\\sigma) = 100\\% - (49.85\\%  + 34\\%) = 16.15\\%$$"
   ]
  },
  {
   "cell_type": "markdown",
   "id": "monetary-arrival",
   "metadata": {},
   "source": [
    "Согласно таблице накопленногонормального распределения\n",
    "$$ Z = \\frac{182-174}{8} = 1 $$\n",
    "$$ P = 1 - 0.8413 = 0.1587 = 15.87\\% $$"
   ]
  },
  {
   "cell_type": "markdown",
   "id": "continent-brooks",
   "metadata": {},
   "source": [
    "б). больше 190 см"
   ]
  },
  {
   "cell_type": "markdown",
   "id": "ranging-chair",
   "metadata": {},
   "source": [
    "от $+2\\sigma$\n",
    "$$ P = 100\\% - (3\\sigma+2\\sigma) = 100\\% - (49.85\\%  + 47.7\\%) = 2.45\\%$$"
   ]
  },
  {
   "cell_type": "markdown",
   "id": "increasing-disability",
   "metadata": {},
   "source": [
    "Согласно таблице накопленногонормального распределения\n",
    "$$ Z = \\frac{190-174}{8} = 2 $$\n",
    "$$ P = 1 - 0.9772 = 0.0228 = 2.28\\% $$"
   ]
  },
  {
   "cell_type": "markdown",
   "id": "sweet-friendly",
   "metadata": {},
   "source": [
    "в). от 166 см до 190 см"
   ]
  },
  {
   "cell_type": "markdown",
   "id": "elementary-exclusive",
   "metadata": {},
   "source": [
    "от $-\\sigma$ до $+2\\sigma$\n",
    "$$ P = 34\\%+47.7\\% = 81.7\\% $$"
   ]
  },
  {
   "cell_type": "markdown",
   "id": "everyday-liquid",
   "metadata": {},
   "source": [
    "Согласно таблице накопленногонормального распределения\n",
    "$$ Z_{1} = \\frac{166-174}{8} = -1\\\\ Z_{2} = \\frac{190-174}{8} = 2 \\\\ P = Z_{2} -Z_{1} = 0.9772 - 0.1587 = 0.8185 = 81.85\\%$$\n"
   ]
  },
  {
   "cell_type": "markdown",
   "id": "stuck-rental",
   "metadata": {},
   "source": [
    "г). от 166 см до 182 см"
   ]
  },
  {
   "cell_type": "markdown",
   "id": "compact-investing",
   "metadata": {},
   "source": [
    "от $-\\sigma$ до $+\\sigma$\n",
    "$$ P = 68\\% $$"
   ]
  },
  {
   "cell_type": "markdown",
   "id": "suited-scroll",
   "metadata": {},
   "source": [
    "Согласно таблице накопленногонормального распределения\n",
    "$$ Z_{1} = \\frac{166-174}{8} = -1 \\\\ \n",
    "Z_{2} = \\frac{182-174}{8} = 1 \\\\\n",
    "P = Z_{2} - Z_{1}= 0.8413 - 0.1587= 0.6835 = 68.35\\% $$"
   ]
  },
  {
   "cell_type": "markdown",
   "id": "simplified-moisture",
   "metadata": {},
   "source": [
    "д). от 158 см до 190 см"
   ]
  },
  {
   "cell_type": "markdown",
   "id": "gentle-block",
   "metadata": {},
   "source": [
    "от $-2\\sigma$ до $+2\\sigma$\n",
    "$$ P = 95.4\\% $$"
   ]
  },
  {
   "cell_type": "markdown",
   "id": "checked-production",
   "metadata": {},
   "source": [
    "Согласно таблице накопленногонормального распределения\n",
    "$$ Z_{1} = \\frac{158-174}{8} = -2 \\\\ \n",
    "Z_{2} = \\frac{190-174}{8} = 2 \\\\\n",
    "P = Z_{2} - Z_{1}= 0.9772 - 0.0228= 0.9543 = 95.43\\% $$"
   ]
  },
  {
   "cell_type": "markdown",
   "id": "incident-employer",
   "metadata": {},
   "source": [
    "е). не выше 150 см или не ниже 190 см"
   ]
  },
  {
   "cell_type": "markdown",
   "id": "unable-samuel",
   "metadata": {},
   "source": [
    "$$ P = 100\\% - \\frac{99.72\\%}{2} -\\frac{95.4\\%}{2} = 2.44\\% $$"
   ]
  },
  {
   "cell_type": "markdown",
   "id": "impressive-amplifier",
   "metadata": {},
   "source": [
    "Согласно таблице накопленногонормального распределения\n",
    "$$ Z_{1} = \\frac{150-174}{8} = -3 \\\\ \n",
    "Z_{2} = \\frac{190-174}{8} = 2 \\\\\n",
    "P = 1 - Z_{2} + Z_{1}= 1 - 0.9772 + 0.0013 = 0.0241 = 2.41\\% $$"
   ]
  },
  {
   "cell_type": "markdown",
   "id": "damaged-timeline",
   "metadata": {},
   "source": [
    "ё). не выше 150 см или не ниже 198 см"
   ]
  },
  {
   "cell_type": "markdown",
   "id": "nominated-inspection",
   "metadata": {},
   "source": [
    "$$ P = 100\\% - 99.72\\% = 0.28\\% $$"
   ]
  },
  {
   "cell_type": "markdown",
   "id": "practical-sterling",
   "metadata": {},
   "source": [
    "Согласно таблице накопленногонормального распределения\n",
    "$$ Z_{1} = \\frac{150-174}{8} = -3 \\\\ \n",
    "Z_{2} = \\frac{198-174}{8} = 3 \\\\\n",
    "P = 1 - Z_{2} + Z_{1}= 1 - 0.9987 + 0.0013 = 0.0026 = 0.26\\% $$"
   ]
  },
  {
   "cell_type": "markdown",
   "id": "precise-racing",
   "metadata": {},
   "source": [
    "ж). ниже 166 см."
   ]
  },
  {
   "cell_type": "markdown",
   "id": "biological-evidence",
   "metadata": {},
   "source": [
    "$$ P = 100\\%- 34\\% - 50\\% = 16\\%$$"
   ]
  },
  {
   "cell_type": "markdown",
   "id": "delayed-assurance",
   "metadata": {},
   "source": [
    "Согласно таблице накопленногонормального распределения\n",
    "$$ P = 0.1587 = 15.87\\% $$"
   ]
  },
  {
   "cell_type": "markdown",
   "id": "unauthorized-movie",
   "metadata": {},
   "source": [
    "__5) На сколько сигм (средних квадратичных отклонений) отклоняется рост человека, равный 190 см, от\n",
    "математического ожидания роста в популяции, в которой M(X) = 178 см и D(X) = 25 кв.см?__"
   ]
  },
  {
   "cell_type": "markdown",
   "id": "detected-article",
   "metadata": {},
   "source": [
    "$$ M(X)=178;\\,\\, \\sigma=\\sqrt{D(X)}=5 \\\\ \\frac{190-178}{5}=2.4 $$"
   ]
  }
 ],
 "metadata": {
  "kernelspec": {
   "display_name": "Python 3",
   "language": "python",
   "name": "python3"
  },
  "language_info": {
   "codemirror_mode": {
    "name": "ipython",
    "version": 3
   },
   "file_extension": ".py",
   "mimetype": "text/x-python",
   "name": "python",
   "nbconvert_exporter": "python",
   "pygments_lexer": "ipython3",
   "version": "3.8.5"
  }
 },
 "nbformat": 4,
 "nbformat_minor": 5
}
