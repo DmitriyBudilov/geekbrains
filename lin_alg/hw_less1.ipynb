{
 "cells": [
  {
   "cell_type": "markdown",
   "id": "bulgarian-yugoslavia",
   "metadata": {},
   "source": [
    "## Практическое задание к уроку 1 \"Линейное пространство. Основные понятия\"."
   ]
  },
  {
   "cell_type": "markdown",
   "id": "confidential-dining",
   "metadata": {},
   "source": [
    "## Часть 1"
   ]
  },
  {
   "cell_type": "markdown",
   "id": "charming-harvey",
   "metadata": {},
   "source": [
    "__1.__ Исследовать на линейную зависимость:\n",
    "\n",
    "$$f_{1}(x)=e^{x}, f_{2}(x)=1, f_{3}(x)=x+1, f_{4}(x)=x-e^{x}.$$"
   ]
  },
  {
   "cell_type": "markdown",
   "id": "encouraging-maintenance",
   "metadata": {},
   "source": [
    "Вектор $f_4(x)$ яаляется линейной комбинацией векторов $f_3(x)$, $f_2(x)$, $f_1(x)$:\n",
    "\n",
    "$$ f_3(x) = x+f_2(x) $$\n",
    "\n",
    "$$ f_4(x) = f_3(x)-f_2(x)-f_1(x) $$\n",
    "\n",
    "Из чего следует, что $f_{1}(x)=e^{x}, f_{2}(x)=1, f_{3}(x)=x+1$ и $f_{4}(x)=x-e^{x}$ __линейно зависимы__."
   ]
  },
  {
   "cell_type": "markdown",
   "id": "comic-sussex",
   "metadata": {},
   "source": [
    "__2.__ Исследовать на линейную зависимость:\n",
    "\n",
    "$$f_{1}(x)=2, f_{2}(x)=x, f_{3}(x)=x^{2}, f_{4}(x)=(x+1)^{2}.$$"
   ]
  },
  {
   "cell_type": "markdown",
   "id": "together-bulgaria",
   "metadata": {},
   "source": [
    "Вектор $f_4(x)$ яаляется линейной комбинацией векторов $f_3(x)$, $f_2(x)$, $f_1(x)$:\n",
    "\n",
    "$$\n",
    "f_4(x) = (x+1)^2 = x^2 + 2x + 1 = f_3(x) + f_1(x)f_2(x) + \\frac{1}{2}f_1(x)\n",
    "$$\n",
    "\n",
    "Из чего следует, что $f_{1}(x)=2, f_{2}(x)=x, f_{3}(x)=x^2$ и $f_{4}(x)=(x+1)^2$ __линейно зависимы__."
   ]
  },
  {
   "cell_type": "markdown",
   "id": "smoking-optimization",
   "metadata": {},
   "source": [
    "__3.__ Найти координаты вектора $x = (2, 3, 5)\\in \\mathbb{R}^{3}$ в базисе $b_{1}=(0, 0, 10)$, $b_{2}=(2, 0, 0)$, $b_{3}=(0, 1, 0)$."
   ]
  },
  {
   "cell_type": "markdown",
   "id": "collect-angle",
   "metadata": {},
   "source": [
    "$ x=(2, 3, 5)=(2, 0, 0)+(0, 3, 0)+(0, 0, 5) = 1\\cdot(2,0,0) + 3\\cdot(0,1,0) + \\frac{1}{2}(0,0,10) = \\frac{1}{2} \\cdot b_1 + 1 \\cdot b_2 + 3 \\cdot b_3 $\n",
    "\n",
    "Координатами вектора $x$ в базисе $b_{1}=(0, 0, 10)$, $b_{2}=(2, 0, 0)$, $b_{3}=(0, 1, 0)$ __являются__ $(\\frac{1}{2}, 1, 3)$."
   ]
  },
  {
   "cell_type": "markdown",
   "id": "fossil-reporter",
   "metadata": {},
   "source": [
    "__4.__ Найти координаты вектора $3x^{2}-2x+2\\in\\mathbb{R}^{3}[x]$:"
   ]
  },
  {
   "cell_type": "markdown",
   "id": "answering-arnold",
   "metadata": {},
   "source": [
    "___а___ в базисе $1$, $x$, $x^{2}$;\n",
    "\n",
    "координаты вектора $3x^{2}-2x+2$ в базисе $1$, $x$, $x^{2}$ __равны__ $(2, -2, 3)$\n"
   ]
  },
  {
   "cell_type": "markdown",
   "id": "imposed-sterling",
   "metadata": {},
   "source": [
    "___б___ в базисе $x^{2}$, $x-1$, $1$."
   ]
  },
  {
   "cell_type": "markdown",
   "id": "collectible-clear",
   "metadata": {},
   "source": [
    "координаты вектора $3x^{2}-2x+2$ в базисе $x^2$,  $x-1$, $1$ __равны__ $(3, -2, 0)$"
   ]
  },
  {
   "cell_type": "markdown",
   "id": "drawn-cleaning",
   "metadata": {},
   "source": [
    "__5.__ Установить, является ли линейным подпространством:"
   ]
  },
  {
   "cell_type": "markdown",
   "id": "oriented-fantasy",
   "metadata": {},
   "source": [
    "___а.___ совокупность всех векторов трехмерного пространства, у которых по крайней мере одна из первых двух координат равна нулю;"
   ]
  },
  {
   "cell_type": "markdown",
   "id": "controlling-anniversary",
   "metadata": {},
   "source": [
    "__Не является линейным подпространством__, так как в случае $a=(0,a_2, a_3)$ и $b=(b_1, 0, b_2)$ сумма $a+b=(0+b_1, a_2+0, a_3+b_3)=(b_1, a_2, a_3+b_3)$, где начальная координата не соответствует векторам $a$ и $b$."
   ]
  },
  {
   "cell_type": "markdown",
   "id": "based-ottawa",
   "metadata": {},
   "source": [
    "___б.___ все векторы, являющиеся линейными комбинациями данных векторов $\\{u_{1}, u_{2}, \\ldots, u_{n}\\}$."
   ]
  },
  {
   "cell_type": "markdown",
   "id": "multiple-brazilian",
   "metadata": {},
   "source": [
    "__Являются линейным подпространством__, так как \n",
    "при $a=(u_1+u_2+u_3)$ и $b=(u_4+u_5)$ $a+b = (u_1+u_2+u_3+u_4+u_5)$"
   ]
  },
  {
   "cell_type": "markdown",
   "id": "round-mineral",
   "metadata": {},
   "source": [
    "## Часть 2"
   ]
  },
  {
   "cell_type": "markdown",
   "id": "owned-onion",
   "metadata": {},
   "source": [
    "__1.__ Найти скалярное произведение векторов $x, y \\in \\mathbb{R}$:<br>"
   ]
  },
  {
   "cell_type": "markdown",
   "id": "equivalent-talent",
   "metadata": {},
   "source": [
    "___а.___ $$x=(0,-3, 6),~y=(-4, 7, 9);$$"
   ]
  },
  {
   "cell_type": "markdown",
   "id": "surface-basic",
   "metadata": {},
   "source": [
    "$$ (x, y) = (0\\cdot(-4)+(-3)\\cdot7+6\\cdot9)=33$$"
   ]
  },
  {
   "cell_type": "code",
   "execution_count": 1,
   "id": "congressional-fantasy",
   "metadata": {},
   "outputs": [
    {
     "name": "stdout",
     "output_type": "stream",
     "text": [
      "Скалярное произведение векторов x и y равняется 33\n"
     ]
    }
   ],
   "source": [
    "import numpy as np\n",
    "x = np.array([0, -3, 6])\n",
    "y = np.array([-4, 7, 9])\n",
    "print(f'Скалярное произведение векторов x и y равняется {np.dot(x,y)}')"
   ]
  },
  {
   "cell_type": "markdown",
   "id": "induced-interference",
   "metadata": {},
   "source": [
    "___б.___ \n",
    "$$x=(7, -4, 0, 1),~y=(-3, 1, 11, 2).$$"
   ]
  },
  {
   "cell_type": "markdown",
   "id": "latest-encyclopedia",
   "metadata": {},
   "source": [
    "$$ (x,y)=7\\cdot(-3)+(-4)\\cdot1+0\\cdot11+1\\cdot2=-23 $$"
   ]
  },
  {
   "cell_type": "code",
   "execution_count": 2,
   "id": "appropriate-silence",
   "metadata": {},
   "outputs": [
    {
     "name": "stdout",
     "output_type": "stream",
     "text": [
      "Скалярное произведение векторов x и y равняется -23\n"
     ]
    }
   ],
   "source": [
    "x = np.array([7, -4, 0, 1])\n",
    "y = np.array([-3, 1, 11, 2])\n",
    "print(f'Скалярное произведение векторов x и y равняется {np.dot(x,y)}')"
   ]
  },
  {
   "cell_type": "markdown",
   "id": "clean-awareness",
   "metadata": {},
   "source": [
    "__2.__ Найти нормы векторов $(4, 2, 4)$ и $(12, 3, 4)$ и угол между ними."
   ]
  },
  {
   "cell_type": "markdown",
   "id": "competent-greeting",
   "metadata": {},
   "source": [
    "$$ \\ell_1 = |4|+|2|+|4|=10; \\ell_1=|12|+|3|+|4|=19$$\n",
    "\n",
    "$$ \\ell_2 = \\sqrt{4^2+2^2+4^2}=6; \\ell_2=\\sqrt{12^2+3^2+4^2}=13$$\n",
    "\n",
    "$$ cos\\alpha = \\frac{(x,y)}{\\left \\|x\\right \\|\\cdot\\left \\|y\\right \\|} = \\frac{4\\cdot12+2\\cdot3+4\\cdot4}{6\\cdot13}=\\frac{70}{78}=0.897435897$$"
   ]
  },
  {
   "cell_type": "code",
   "execution_count": 3,
   "id": "hidden-family",
   "metadata": {},
   "outputs": [
    {
     "name": "stdout",
     "output_type": "stream",
     "text": [
      "Норма векторов l1:\n",
      " a = 10.0\n",
      " b = 19.0\n",
      "Норма векторов l2:\n",
      " a = 6.0\n",
      " b = 13.0\n",
      "Угол между векторами a и b равен: \n",
      "0.8974358974358975\n"
     ]
    }
   ],
   "source": [
    "a = np.array([4, 2, 4])\n",
    "b = np.array([12, 3, 4])\n",
    "print(f'Норма векторов l1:\\n a = {np.linalg.norm(a, ord = 1)}\\n b = {np.linalg.norm(b, ord = 1)}')\n",
    "print(f'Норма векторов l2:\\n a = {np.linalg.norm(a, ord = 2)}\\n b = {np.linalg.norm(b, ord = 2)}')\n",
    "print(f'Угол между векторами a и b равен: \\n{np.dot(a,b)/ (np.linalg.norm(a, ord=2)*np.linalg.norm(b, ord=2))}')"
   ]
  },
  {
   "cell_type": "markdown",
   "id": "attended-ridge",
   "metadata": {},
   "source": [
    "__3.__ Будет ли линейное пространство евклидовым, если за скалярное произведение принять:"
   ]
  },
  {
   "cell_type": "markdown",
   "id": "disturbed-lancaster",
   "metadata": {},
   "source": [
    "___а.___ произведение длин векторов;"
   ]
  },
  {
   "cell_type": "markdown",
   "id": "virtual-karaoke",
   "metadata": {},
   "source": [
    "Согласно принятой аксиоме:\n",
    "\n",
    "$$(x_{1}+x_{2},y)=(x_{1},y)+(x_{2},y);$$\n",
    "\n",
    "Определим: $x_1=(4,0), x_2=(0,2), y=(0,3)$\n",
    "\n",
    "$$\\left\\|x_1\\right\\|=\\sqrt{4^2+0}=4$$\n",
    "$$\\left\\|x_2\\right\\|=\\sqrt{0+2^2}=2$$\n",
    "$$\\left\\|y\\right\\|=\\sqrt{0+3^2}=3$$\n",
    "\n",
    "$$\\left\\|x_1+x_2\\right\\|=\\sqrt{4^2+3^2}=5$$\n",
    "\n",
    "$$\\left\\|x_1+x_2\\right\\| \\cdot \\left\\|y\\right\\|=\\left\\|x_1\\right\\|\\cdot\\left\\|y\\right\\|+\\left\\|x_2\\right\\|\\cdot\\left\\|y\\right\\|=4\\cdot3+2\\cdot3=18$$\n",
    "\n",
    "$$18\\neq 15$$\n",
    "\n",
    "__Пространство не будет евклидовым__"
   ]
  },
  {
   "cell_type": "markdown",
   "id": "removed-turkey",
   "metadata": {},
   "source": [
    "___б.___ утроенное обычное скалярное произведение векторов?"
   ]
  },
  {
   "cell_type": "markdown",
   "id": "weighted-energy",
   "metadata": {},
   "source": [
    "$$a=(x,y); 3a$$\n",
    "__Пространство будет евклидовым__"
   ]
  },
  {
   "cell_type": "markdown",
   "id": "noted-navigation",
   "metadata": {},
   "source": [
    "__4.__ Какие из нижеперечисленных векторов образуют ортонормированный базис в линейном пространстве $\\mathbb{R}^{3}$:"
   ]
  },
  {
   "cell_type": "markdown",
   "id": "recent-authority",
   "metadata": {},
   "source": [
    "___а.___ $(1,0,0),(0,0,1);$ "
   ]
  },
  {
   "cell_type": "markdown",
   "id": "respective-testimony",
   "metadata": {},
   "source": [
    "__не образуют базис__"
   ]
  },
  {
   "cell_type": "markdown",
   "id": "special-butter",
   "metadata": {},
   "source": [
    "___б.___ $x=(1/\\sqrt{2},-1/\\sqrt{2},0),y=(1/\\sqrt{2},1/\\sqrt{2},0), z=(0,0,1);$"
   ]
  },
  {
   "cell_type": "markdown",
   "id": "removed-lyric",
   "metadata": {},
   "source": [
    "__образуют базис__\n",
    "$$\n",
    "(x,y)=1/\\sqrt{2}\\cdot1/\\sqrt{2}+(-1/\\sqrt{2})\\cdot1/\\sqrt{2}+0=0\n",
    "$$\n",
    "\n",
    "$$\n",
    "(x,z)=1/\\sqrt{2}\\cdot0+(-1/\\sqrt{2})\\cdot0+0\\cdot1=0\n",
    "$$\n",
    "\n",
    "$$\n",
    "(y,z)=1/\\sqrt{2}\\cdot0+1/\\sqrt{2}\\cdot0+0\\cdot1=0\n",
    "$$"
   ]
  },
  {
   "cell_type": "markdown",
   "id": "stopped-thompson",
   "metadata": {},
   "source": [
    "___в.___ $(1/2, -1/2, 0), (0, 1/2, 1/2), (0,0,1);$"
   ]
  },
  {
   "cell_type": "markdown",
   "id": "intensive-communication",
   "metadata": {},
   "source": [
    "__не образуют базис__\n",
    "\n",
    "$$\n",
    "(x,y)=\\frac{1}{2}\\cdot0+(-\\frac{1}{2})\\cdot\\frac{1}{2}+0\\cdot\\frac{1}{2}=-0.25\n",
    "$$\n",
    "\n",
    "$$\n",
    "(x,z)=\\frac{1}{2}\\cdot0+(-\\frac{1}{2})\\cdot0+0\\cdot1=0\n",
    "$$\n",
    "\n",
    "$$\n",
    "(y,z)=0+\\frac{1}{2}\\cdot0+\\frac{1}{2}\\cdot1=0.5\n",
    "$$"
   ]
  },
  {
   "cell_type": "markdown",
   "id": "living-judgment",
   "metadata": {},
   "source": [
    "___г.___ $(1,0,0),(0,1,0),(0,0,1)$ "
   ]
  },
  {
   "cell_type": "markdown",
   "id": "conceptual-cross",
   "metadata": {},
   "source": [
    "__образуют__"
   ]
  }
 ],
 "metadata": {
  "kernelspec": {
   "display_name": "Python 3",
   "language": "python",
   "name": "python3"
  },
  "language_info": {
   "codemirror_mode": {
    "name": "ipython",
    "version": 3
   },
   "file_extension": ".py",
   "mimetype": "text/x-python",
   "name": "python",
   "nbconvert_exporter": "python",
   "pygments_lexer": "ipython3",
   "version": "3.8.5"
  }
 },
 "nbformat": 4,
 "nbformat_minor": 5
}
