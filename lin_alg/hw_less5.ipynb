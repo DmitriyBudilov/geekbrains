{
 "cells": [
  {
   "cell_type": "markdown",
   "id": "incoming-tiger",
   "metadata": {},
   "source": [
    "## Практическое задание к уроку 5 \"Сингулярное разложение матриц\"."
   ]
  },
  {
   "cell_type": "markdown",
   "id": "hundred-candy",
   "metadata": {},
   "source": [
    "__1. Найти с помощью NumPy SVD для матрицы__\n",
    "\n",
    "$$\\begin{pmatrix}\n",
    "1 & 2 & 0\\\\ \n",
    "0 & 0 & 5\\\\ \n",
    "3 & -4 & 2\\\\ \n",
    "1 & 6 & 5\\\\ \n",
    "0 & 1 & 0\n",
    "\\end{pmatrix}.$$"
   ]
  },
  {
   "cell_type": "code",
   "execution_count": 1,
   "id": "herbal-institution",
   "metadata": {},
   "outputs": [],
   "source": [
    "import numpy as np\n",
    "import math\n",
    "np.set_printoptions(precision=2, suppress=True)"
   ]
  },
  {
   "cell_type": "markdown",
   "id": "asian-examination",
   "metadata": {},
   "source": [
    "Зададим матрицу A:\n",
    "$$\n",
    "A=\n",
    "\\begin{pmatrix}\n",
    "1 & 2 & 0\\\\ \n",
    "0 & 0 & 5\\\\ \n",
    "3 & -4 & 2\\\\ \n",
    "1 & 6 & 5\\\\ \n",
    "0 & 1 & 0\n",
    "\\end{pmatrix}\n",
    "$$"
   ]
  },
  {
   "cell_type": "code",
   "execution_count": 2,
   "id": "figured-cradle",
   "metadata": {},
   "outputs": [
    {
     "name": "stdout",
     "output_type": "stream",
     "text": [
      "Матрица A:\n",
      "\n",
      "[[ 1  2  0]\n",
      " [ 0  0  5]\n",
      " [ 3 -4  2]\n",
      " [ 1  6  5]\n",
      " [ 0  1  0]]\n"
     ]
    }
   ],
   "source": [
    "A = np.array([[1, 2, 0], [0, 0, 5], [3, -4, 2], [1, 6, 5], [0, 1, 0]])\n",
    "print(f'Матрица A:\\n\\n{A}')"
   ]
  },
  {
   "cell_type": "code",
   "execution_count": 3,
   "id": "whole-peninsula",
   "metadata": {},
   "outputs": [],
   "source": [
    "# SVD для матрицы A\n",
    "U, S, W = np.linalg.svd(A)\n",
    "V = W.T\n",
    "D = np.zeros_like(A, dtype=float)\n",
    "D[np.diag_indices(min(A.shape))] = S"
   ]
  },
  {
   "cell_type": "code",
   "execution_count": 4,
   "id": "public-newspaper",
   "metadata": {},
   "outputs": [
    {
     "name": "stdout",
     "output_type": "stream",
     "text": [
      "   Элементы, лежащие на главной диагонали матрицы D,\n",
      "являются сингулярными числами матрицы A:\n",
      "\n",
      "[[8.82 0.   0.  ]\n",
      " [0.   6.14 0.  ]\n",
      " [0.   0.   2.53]\n",
      " [0.   0.   0.  ]\n",
      " [0.   0.   0.  ]]\n"
     ]
    }
   ],
   "source": [
    "print(f'   Элементы, лежащие на главной диагонали матрицы D,\\n\\\n",
    "являются сингулярными числами матрицы A:\\n\\n{D}')"
   ]
  },
  {
   "cell_type": "markdown",
   "id": "valid-complexity",
   "metadata": {},
   "source": [
    "$$\n",
    "D=\n",
    "\\begin{pmatrix}\n",
    "8.82 & 0 & 0\\\\\n",
    "0 & 6.14 & 0\\\\\n",
    "0 & 0 & 2.53\\\\\n",
    "0 & 0 & 0\\\\\n",
    "0 & 0 & 0\n",
    "\\end{pmatrix}\n",
    "$$"
   ]
  },
  {
   "cell_type": "code",
   "execution_count": 5,
   "id": "naval-public",
   "metadata": {},
   "outputs": [
    {
     "name": "stdout",
     "output_type": "stream",
     "text": [
      "   Столбцы матриц U и V называются левыми и правыми\n",
      "сингулярными векторами матрицы A:\n",
      "\n",
      "U:\n",
      "[[ 0.17  0.16 -0.53 -0.8  -0.16]\n",
      " [ 0.39 -0.53  0.61 -0.43  0.03]\n",
      " [-0.14 -0.82 -0.52  0.14  0.07]\n",
      " [ 0.89  0.06 -0.25  0.38 -0.06]\n",
      " [ 0.08  0.11 -0.08 -0.11  0.98]]\n",
      "\n",
      "V:\n",
      "[[ 0.07 -0.37 -0.93]\n",
      " [ 0.72  0.67 -0.21]\n",
      " [ 0.69 -0.65  0.31]]\n"
     ]
    }
   ],
   "source": [
    "print(f'   Столбцы матриц U и V называются левыми и правыми\\n\\\n",
    "сингулярными векторами матрицы A:\\n\\nU:\\n{U}\\n\\nV:\\n{V}')"
   ]
  },
  {
   "cell_type": "markdown",
   "id": "usual-difference",
   "metadata": {},
   "source": [
    "$$\n",
    "U=\n",
    "\\begin{pmatrix}\n",
    "0.17 & 0.16 & -0.53 & -0.8 & -0.16\\\\\n",
    "0.39 & -0.53 & 0.61 & -0.43 & 0.03\\\\\n",
    "-0.14 & -0.82 & -0.52 & 0.14 & 0.07\\\\\n",
    "0.89 & 0.06 & -0.25 & 0.38 & -0.06\\\\\n",
    "0.08 & 0.11 & -0.08 & -0.11 & 0.98\\\\\n",
    "\\end{pmatrix};\n",
    "V=\n",
    "\\begin{pmatrix}\n",
    "0.07 & -0.37 & -0.93\\\\\n",
    "0.72 & 0.67 & -0.21\\\\\n",
    "0.69 & -0.65 & 0.31\n",
    "\\end{pmatrix}\n",
    "$$"
   ]
  },
  {
   "cell_type": "code",
   "execution_count": 6,
   "id": "announced-fetish",
   "metadata": {},
   "outputs": [
    {
     "name": "stdout",
     "output_type": "stream",
     "text": [
      "Проверим на ортоганальность матрицу U:\n",
      "\n",
      "[[ 1.  0. -0. -0. -0.]\n",
      " [ 0.  1.  0.  0.  0.]\n",
      " [-0.  0.  1. -0. -0.]\n",
      " [-0.  0. -0.  1. -0.]\n",
      " [-0.  0. -0. -0.  1.]]\n"
     ]
    }
   ],
   "source": [
    "print(f'Проверим на ортоганальность матрицу U:\\n\\n{np.dot(U.T, U)}')"
   ]
  },
  {
   "cell_type": "markdown",
   "id": "virtual-imagination",
   "metadata": {},
   "source": [
    "$$\n",
    "\\begin{pmatrix}\n",
    "1 & 0 & 0 & 0 & 0\\\\\n",
    "0 & 1 & 0 & 0 & 0\\\\\n",
    "0 & 0 & 1 & 0 & 0\\\\\n",
    "0 & 0 & 0 & 1 & 0\\\\\n",
    "0 & 0 & 0 & 0 & 1\n",
    "\\end{pmatrix};\n",
    "$$"
   ]
  },
  {
   "cell_type": "code",
   "execution_count": 7,
   "id": "characteristic-third",
   "metadata": {},
   "outputs": [
    {
     "name": "stdout",
     "output_type": "stream",
     "text": [
      "Проверка:\n",
      "\n",
      "[[ 1.  2.  0.]\n",
      " [ 0. -0.  5.]\n",
      " [ 3. -4.  2.]\n",
      " [ 1.  6.  5.]\n",
      " [-0.  1. -0.]]\n"
     ]
    }
   ],
   "source": [
    "print(f'Проверка:\\n\\n{np.dot(np.dot(U, D), V.T)}')"
   ]
  },
  {
   "cell_type": "markdown",
   "id": "potential-artwork",
   "metadata": {},
   "source": [
    "__2. Для матрицы из предыдущего задания найти:__"
   ]
  },
  {
   "cell_type": "markdown",
   "id": "surgical-complaint",
   "metadata": {},
   "source": [
    "    а) евклидову норму;"
   ]
  },
  {
   "cell_type": "code",
   "execution_count": 8,
   "id": "flexible-while",
   "metadata": {},
   "outputs": [
    {
     "name": "stdout",
     "output_type": "stream",
     "text": [
      "Евклидова норма равна: 8.82\n"
     ]
    }
   ],
   "source": [
    "print(f'Евклидова норма равна: {round(max(S),2)}')"
   ]
  },
  {
   "cell_type": "markdown",
   "id": "atmospheric-syndrome",
   "metadata": {},
   "source": [
    "    б) норму Фробениуса."
   ]
  },
  {
   "cell_type": "code",
   "execution_count": 9,
   "id": "quick-hartford",
   "metadata": {},
   "outputs": [
    {
     "name": "stdout",
     "output_type": "stream",
     "text": [
      "Норма Фробениуса равна:11.05\n"
     ]
    }
   ],
   "source": [
    "norm_f = [item**2 for item in S]\n",
    "print(f'Норма Фробениуса равна:{round(math.sqrt(sum(norm_f)),2)}')"
   ]
  }
 ],
 "metadata": {
  "kernelspec": {
   "display_name": "Python 3",
   "language": "python",
   "name": "python3"
  },
  "language_info": {
   "codemirror_mode": {
    "name": "ipython",
    "version": 3
   },
   "file_extension": ".py",
   "mimetype": "text/x-python",
   "name": "python",
   "nbconvert_exporter": "python",
   "pygments_lexer": "ipython3",
   "version": "3.8.5"
  }
 },
 "nbformat": 4,
 "nbformat_minor": 5
}
