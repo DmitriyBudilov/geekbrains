{
 "cells": [
  {
   "cell_type": "markdown",
   "metadata": {},
   "source": [
    "# Практическое задание к уроку 2 \"Матрицы и матричные операции\""
   ]
  },
  {
   "cell_type": "markdown",
   "metadata": {},
   "source": [
    "# Часть 1"
   ]
  },
  {
   "cell_type": "markdown",
   "metadata": {},
   "source": [
    "### Задание 1\n",
    "\n",
    "___a.___\n",
    "$$\n",
    "A=\n",
    "\\begin{pmatrix}\n",
    "a_{11} & a_{12}\\\\\n",
    "a_{21} & a_{22}\\\\\n",
    "a_{31} & a_{32}\\\\\n",
    "a_{41} & a_{42}\n",
    "\\end{pmatrix}\n",
    ",\n",
    "B=\n",
    "\\begin{pmatrix}\n",
    "b_{11} & b_{12}\\\\\n",
    "b_{21} & b_{22}\\\\\n",
    "b_{31} & b_{32}\\\\\n",
    "b_{41} & b_{42}\n",
    "\\end{pmatrix}\n",
    "$$\n",
    "\n",
    "$AB$ - __неопределено__, т.к. число столбцов матрицы $A$ не соответствует числу строк матрицы $B$.\n",
    "\n",
    "$BA$ - __неопределено__, т.к. число столбцов матрицы $B$ не соответствует числу строк матрицы $A$.\n",
    "\n",
    "\n",
    "___б.___\n",
    "$$\n",
    "A=\n",
    "\\begin{pmatrix}\n",
    "a_{11} & a_{12} & a_{13} & a_{14} & a_{15}\\\\\n",
    "a_{21} & a_{22} & a_{23} & a_{24} & a_{25}\n",
    "\\end{pmatrix}\n",
    ",\n",
    "B=\n",
    "\\begin{pmatrix}\n",
    "b_{11} & b_{12} & b_{13}\\\\\n",
    "b_{21} & b_{22} & b_{23}\\\\\n",
    "b_{31} & b_{32} & b_{33}\\\\\n",
    "b_{41} & b_{42} & b_{43}\\\\\n",
    "b_{51} & b_{52} & b_{53}\n",
    "\\end{pmatrix}\n",
    "$$\n",
    "\n",
    "$AB$ - __определено__, т.к. число столбцов матрицы $A$ соответствует числу строк матрицы $B$.\n",
    "Размерность матрицы $AB$ - $2\\times3$.\n",
    "\n",
    "$BA$ - __неопределено__, т.к. число столбцов матрицы $B$ не соответствует числу строк матрицы $A$.\n",
    "\n",
    "\n",
    "___в.___\n",
    "$$\n",
    "A=\n",
    "\\begin{pmatrix}\n",
    "a_{11} & a_{12} & a_{13}\\\\\n",
    "a_{21} & a_{22} & a_{23}\\\\\n",
    "a_{31} & a_{32} & a_{33}\\\\\n",
    "a_{41} & a_{42} & a_{43}\\\\\n",
    "a_{51} & a_{52} & a_{53}\\\\\n",
    "a_{61} & a_{62} & a_{63}\\\\\n",
    "a_{71} & a_{72} & a_{73}\\\\\n",
    "a_{81} & a_{82} & a_{83}\n",
    "\\end{pmatrix}\n",
    ",\n",
    "B=\n",
    "\\begin{pmatrix}\n",
    "b_{11} & b_{12} & b_{13} & b_{14} & b_{15} & b_{16} & b_{17} & b_{18}\\\\\n",
    "b_{21} & b_{22} & b_{23} & b_{24} & b_{25} & b_{26} & b_{27} & b_{28}\\\\\n",
    "b_{31} & b_{32} & b_{33} & b_{34} & b_{35} & b_{36} & b_{37} & b_{38}\n",
    "\\end{pmatrix}\n",
    "$$\n",
    "\n",
    "$AB$ - __определено__, т.к. число столбцов матрицы $A$ соответствует числу строк матрицы $B$.\n",
    "Размерность матрицы $AB$ - $8\\times8$.\n",
    "\n",
    "$BA$ - __определено__, т.к. число столбцов матрицы $B$ соответствует числу строк матрицы $A$.\n",
    "Размерность матрицы $BA$ - $3\\times3$.\n",
    "\n",
    "_г._\n",
    "$$\n",
    "A=\n",
    "\\begin{pmatrix}\n",
    "a_{11} & a_{12} & a_{13} & a_{14}\\\\\n",
    "a_{21} & a_{22} & a_{23} & a_{24}\\\\\n",
    "a_{31} & a_{32} & a_{33} & a_{34}\\\\\n",
    "a_{41} & a_{42} & a_{43} & a_{44}\n",
    "\\end{pmatrix}\n",
    ",\n",
    "B=\n",
    "\\begin{pmatrix}\n",
    "b_{11} & b_{12} & b_{13} & b_{14}\\\\\n",
    "b_{21} & b_{22} & b_{23} & b_{24}\\\\\n",
    "b_{31} & b_{32} & b_{33} & b_{34}\\\\\n",
    "b_{41} & b_{42} & b_{43} & b_{44}\n",
    "\\end{pmatrix}\n",
    "$$\n",
    "\n",
    "$AB$ - __определено__, т.к. $A$ и $B$ квадратные матрицы одного размера.\n",
    "Размерность матрицы $AB$ - $4\\times4$.\n",
    "\n",
    "$BA$ - __определено__, т.к. $B$ и $A$ квадратные матрицы одного размера.\n",
    "Размерность матрицы $BA$  - $4\\times4$.\n"
   ]
  },
  {
   "cell_type": "markdown",
   "metadata": {},
   "source": [
    "### Задание 2\n",
    "\n",
    "$$\n",
    "A=\n",
    "\\begin{pmatrix}\n",
    "1 & -2\\\\\n",
    "3 & 0\n",
    "\\end{pmatrix}\n",
    ",\n",
    "B=\n",
    "\\begin{pmatrix}\n",
    "4 & -1\\\\\n",
    "0 & 5\n",
    "\\end{pmatrix}\n",
    "$$\n",
    "\n",
    "$$\n",
    "A+B=\n",
    "\\begin{pmatrix}\n",
    "1+4 & -2-1\\\\\n",
    "3+0 & 0+5\n",
    "\\end{pmatrix}\n",
    "=\n",
    "\\begin{pmatrix}\n",
    "5 & -3\\\\\n",
    "3 & 5\n",
    "\\end{pmatrix}\n",
    "$$\n",
    "\n",
    "$$\n",
    "A\\cdot B=\n",
    "\\begin{pmatrix}\n",
    "(1\\cdot4 + (-2)\\cdot0) & (1\\cdot(-1) + (-2)\\cdot5)\\\\\n",
    "(3\\cdot4 + 0\\cdot0) & (3\\cdot(-1) + 0\\cdot5)\n",
    "\\end{pmatrix}\n",
    "=\n",
    "\\begin{pmatrix}\n",
    "4 & -11\\\\\n",
    "12 & -3\n",
    "\\end{pmatrix}\n",
    "$$"
   ]
  },
  {
   "cell_type": "code",
   "execution_count": 1,
   "metadata": {},
   "outputs": [],
   "source": [
    "import numpy as np"
   ]
  },
  {
   "cell_type": "code",
   "execution_count": 2,
   "metadata": {},
   "outputs": [
    {
     "name": "stdout",
     "output_type": "stream",
     "text": [
      "Сумма матриц A и B равна: \n",
      "\n",
      " [[ 5 -3]\n",
      " [ 3  5]]\n",
      "\n",
      "Произведение матриц A и B равно: \n",
      "\n",
      " [[  4 -11]\n",
      " [ 12  -3]]\n"
     ]
    }
   ],
   "source": [
    "A = np.array([[1, -2], [3, 0]])\n",
    "B = np.array([[4, -1], [0, 5]])\n",
    "print(f'Сумма матриц A и B равна: \\n\\n {A+B}\\n')\n",
    "print(f'Произведение матриц A и B равно: \\n\\n {np.dot(A,B)}')"
   ]
  },
  {
   "cell_type": "markdown",
   "metadata": {},
   "source": [
    "### Задание 3\n",
    "\n",
    "$$\n",
    "A=\n",
    "\\begin{pmatrix}\n",
    "1 & 7\\\\\n",
    "3 & -6\n",
    "\\end{pmatrix}\n",
    ",\n",
    "B=\n",
    "\\begin{pmatrix}\n",
    "0 & 5\\\\\n",
    "2 & -1\n",
    "\\end{pmatrix}\n",
    ",\n",
    "C=\n",
    "\\begin{pmatrix}\n",
    "2 & -4\\\\\n",
    "1 & 1\n",
    "\\end{pmatrix}\n",
    "$$\n",
    "\n",
    "$$\n",
    "3A-2B+4C=\n",
    "3\\cdot\n",
    "\\begin{pmatrix}\n",
    "1 & 7\\\\\n",
    "3 & -6\n",
    "\\end{pmatrix}\n",
    "-\n",
    "2\\cdot\n",
    "\\begin{pmatrix}\n",
    "0 & 5\\\\\n",
    "2 & -1\n",
    "\\end{pmatrix}\n",
    "+\n",
    "4\\cdot\n",
    "\\begin{pmatrix}\n",
    "2 & -4\\\\\n",
    "1 & 1\n",
    "\\end{pmatrix}\n",
    "=\n",
    "$$\n",
    "\n",
    "$$\n",
    "=\n",
    "\\begin{pmatrix}\n",
    "3\\cdot1 & 3\\cdot7\\\\\n",
    "3\\cdot3 & 3\\cdot(-6)\n",
    "\\end{pmatrix}\n",
    "-\n",
    "\\begin{pmatrix}\n",
    "2\\cdot0 & 2\\cdot5\\\\\n",
    "2\\cdot2 & 2\\cdot(-1)\n",
    "\\end{pmatrix}\n",
    "+\n",
    "\\begin{pmatrix}\n",
    "4\\cdot2 & 4\\cdot(-4)\\\\\n",
    "4\\cdot1 & 4\\cdot1\n",
    "\\end{pmatrix}\n",
    "=\n",
    "\\begin{pmatrix}\n",
    "3 & 21\\\\\n",
    "9 & -18\n",
    "\\end{pmatrix}\n",
    "-\n",
    "\\begin{pmatrix}\n",
    "0 & 10\\\\\n",
    "4 & -2\n",
    "\\end{pmatrix}\n",
    "+\n",
    "\\begin{pmatrix}\n",
    "8 & -16\\\\\n",
    "4 & 4\n",
    "\\end{pmatrix}\n",
    "=\n",
    "$$\n",
    "\n",
    "$$\n",
    "=\n",
    "\\begin{pmatrix}\n",
    "3-0+8 & 21-10-16\\\\\n",
    "9-4+4 & -18+2+4\n",
    "\\end{pmatrix}\n",
    "=\n",
    "\\begin{pmatrix}\n",
    "11 & -5\\\\\n",
    "9 & -12\n",
    "\\end{pmatrix}\n",
    "$$"
   ]
  },
  {
   "cell_type": "code",
   "execution_count": 3,
   "metadata": {},
   "outputs": [
    {
     "name": "stdout",
     "output_type": "stream",
     "text": [
      "3A-2B+4C=\n",
      "\n",
      "[[ 11  -5]\n",
      " [  9 -12]]\n"
     ]
    }
   ],
   "source": [
    "A = np.array([[1, 7], [3, -6]])\n",
    "B = np.array([[0, 5], [2, -1]])\n",
    "C = np.array([[2, -4], [1, 1]])\n",
    "print(f'3A-2B+4C=\\n\\n{np.dot(3,A)-np.dot(2,B)+np.dot(4,C)}')"
   ]
  },
  {
   "cell_type": "markdown",
   "metadata": {},
   "source": [
    "### Задание 4\n",
    "\n",
    "$$\n",
    "A = \n",
    "\\begin{pmatrix}\n",
    "4 & 1\\\\\n",
    "5 & -2\\\\\n",
    "2 & 3\n",
    "\\end{pmatrix}\n",
    ",\n",
    "A^T =\n",
    "\\begin{pmatrix}\n",
    "4 & 5 & 2\\\\\n",
    "1 & -2 & 3\n",
    "\\end{pmatrix}\n",
    "$$\n",
    "\n",
    "$$\n",
    "A\\cdot A^T=\n",
    "\\begin{pmatrix}\n",
    "4\\cdot4 + 1\\cdot1 & 4\\cdot5 + 1\\cdot(-2) & 4\\cdot2 + 1\\cdot3\\\\\n",
    "5\\cdot4 + (-2)\\cdot1 & 5\\cdot5 + (-2)\\cdot(-2) & 5\\cdot2 + (-2)\\cdot3\\\\\n",
    "2\\cdot4 + 3\\cdot1 & 2\\cdot5 + 3\\cdot(-2) & 2\\cdot2 + 3\\cdot3\n",
    "\\end{pmatrix}\n",
    "=\n",
    "\\begin{pmatrix}\n",
    "17 & 18 & 11\\\\\n",
    "18 & 29 & 4\\\\\n",
    "11 & 4 & 13\n",
    "\\end{pmatrix}\n",
    "$$\n",
    "\n",
    "$$\n",
    "A^T\\cdot A=\n",
    "\\begin{pmatrix}\n",
    "4\\cdot4 + 5\\cdot5 + 2\\cdot2 & 4\\cdot1 + 5\\cdot(-2) + 2\\cdot3\\\\\n",
    "1\\cdot4 + (-2)\\cdot5 + 3\\cdot2 & 1\\cdot1 + (-2)\\cdot(-2) + 3\\cdot3\n",
    "\\end{pmatrix}\n",
    "=\n",
    "\\begin{pmatrix}\n",
    "45 & 0\\\\\n",
    "0 & 14\n",
    "\\end{pmatrix}\n",
    "$$"
   ]
  },
  {
   "cell_type": "code",
   "execution_count": 4,
   "metadata": {},
   "outputs": [
    {
     "name": "stdout",
     "output_type": "stream",
     "text": [
      "Произведение A и Aᵀ равно: \n",
      "\n",
      "[[17 18 11]\n",
      " [18 29  4]\n",
      " [11  4 13]]\n",
      "\n",
      "Произведение Aᵀ и A равно: \n",
      "\n",
      "[[45  0]\n",
      " [ 0 14]]\n"
     ]
    }
   ],
   "source": [
    "A = np.array([[4,1],[5,-2],[2,3]])\n",
    "print(f'Произведение A и A\\u1d40 равно: \\n\\n{np.dot(A,A.T)}\\n')\n",
    "print(f'Произведение A\\u1d40 и A равно: \\n\\n{np.dot(A.T,A)}')"
   ]
  },
  {
   "cell_type": "markdown",
   "metadata": {},
   "source": [
    "### Задание 5"
   ]
  },
  {
   "cell_type": "code",
   "execution_count": 5,
   "metadata": {},
   "outputs": [],
   "source": [
    "def matrix_product(matrix_a, matrix_b):\n",
    "    '''Функция перемножения матриц matrix_a и matrix_b'''\n",
    "    if len(matrix_a[0]) == len(matrix_b):\n",
    "        result = [[0 for i in range(len(matrix_a))] \\\n",
    "                     for j in range(len(matrix_b[0]))]\n",
    "        for i in range(len(matrix_a)):\n",
    "            for j in range(len(matrix_b[0])):\n",
    "                for x in range(len(matrix_a[0])):\n",
    "                    result[i][j] += matrix_a[i][x] * matrix_b[x][j]\n",
    "    else:\n",
    "        result = \"неопределено.\"\n",
    "    return result"
   ]
  },
  {
   "cell_type": "code",
   "execution_count": 6,
   "metadata": {},
   "outputs": [
    {
     "name": "stdout",
     "output_type": "stream",
     "text": [
      "Произведение матриц \n",
      "\n",
      "[[14, 20], [13, 19]]\n"
     ]
    }
   ],
   "source": [
    "print(f'Произведение матриц \\n\\n\\\n",
    "{matrix_product([[1, 2, 3],[1, 3, 2]],[[1, 2],[2, 3],[3, 4]])}')"
   ]
  },
  {
   "cell_type": "code",
   "execution_count": 7,
   "metadata": {},
   "outputs": [
    {
     "name": "stdout",
     "output_type": "stream",
     "text": [
      "Произведение матриц \n",
      "\n",
      "неопределено.\n"
     ]
    }
   ],
   "source": [
    "print(f'Произведение матриц \\n\\n\\\n",
    "{matrix_product([[1, 2, 3, 4],[1, 3, 2, 4]],[[1, 2],[2, 3],[3, 4]])}')"
   ]
  },
  {
   "cell_type": "markdown",
   "metadata": {},
   "source": [
    "# Часть 2"
   ]
  },
  {
   "cell_type": "markdown",
   "metadata": {},
   "source": [
    "### Задание 1"
   ]
  },
  {
   "cell_type": "markdown",
   "metadata": {},
   "source": [
    "___а.___\n",
    "$$A=\\begin{pmatrix}\n",
    "sinx & -cosx\\\\ \n",
    "cosx & sinx\n",
    "\\end{pmatrix};$$\n",
    "\n",
    "$$detA=\\begin{vmatrix}\n",
    "sinx & -cosx\\\\ \n",
    "cosx & sinx\n",
    "\\end{vmatrix}\n",
    "=\n",
    "sinx \\cdot sinx - cosx \\cdot -cosx\n",
    "=sin^2x+cos^2x\n",
    "=1$$\n",
    "___б.___\n",
    "$$A=\\begin{vmatrix}\n",
    "4 & 2 & 3\\\\ \n",
    "0 & 5 & 1\\\\ \n",
    "0 & 0 & 9\n",
    "\\end{vmatrix};$$\n",
    "Матрица $A$ является треугольной. Следовательно из 7-го свойства определителя матрицы её определитель равен произведению элементов, стоящих на главной диагонали.\n",
    "$$detA=\\begin{vmatrix}\n",
    "4 & 2 & 3\\\\ \n",
    "0 & 5 & 1\\\\ \n",
    "0 & 0 & 9\n",
    "\\end{vmatrix}\n",
    "=4\\cdot 5\\cdot 9=180$$"
   ]
  },
  {
   "cell_type": "code",
   "execution_count": 8,
   "metadata": {},
   "outputs": [
    {
     "name": "stdout",
     "output_type": "stream",
     "text": [
      "Определитель матрицы A равен 180.0\n"
     ]
    }
   ],
   "source": [
    "A = np.array([[4, 2, 3], [0, 5, 1], [0, 0, 9]])\n",
    "print(f'Определитель матрицы A равен {np.linalg.det(A)}')"
   ]
  },
  {
   "cell_type": "markdown",
   "metadata": {},
   "source": [
    "___в.___\n",
    "$$A=\\begin{vmatrix}\n",
    "1 & 2 & 3\\\\ \n",
    "4 & 5 & 6\\\\ \n",
    "7 & 8 & 9\n",
    "\\end{vmatrix};$$\n",
    "\n",
    "$$detA=\\begin{vmatrix}\n",
    "1 & 2 & 3\\\\ \n",
    "4 & 5 & 6\\\\ \n",
    "7 & 8 & 9\n",
    "\\end{vmatrix}\n",
    "=1\\cdot \n",
    "\\begin{vmatrix}\n",
    "5 & 6\\\\\n",
    "8 & 9\n",
    "\\end{vmatrix}\n",
    "-2\\cdot\n",
    "\\begin{vmatrix}\n",
    "4 & 6\\\\\n",
    "7 & 9\n",
    "\\end{vmatrix}\n",
    "+3\\cdot\n",
    "\\begin{vmatrix}\n",
    "4 & 5\\\\\n",
    "7 & 8\n",
    "\\end{vmatrix}\n",
    "= (5\\cdot9-8\\cdot6)-2\\cdot(4\\cdot9-7\\cdot6)+3\\cdot(4\\cdot8-7\\cdot5)\n",
    "=0$$\n",
    "\n",
    "$$detA=\\begin{vmatrix}\n",
    "1 & 2 & 3\\\\ \n",
    "4 & 5 & 6\\\\ \n",
    "7 & 8 & 9\n",
    "\\end{vmatrix}\n",
    "=\n",
    "(1\\cdot 5\\cdot 9 + 7\\cdot 2\\cdot 6 + 3\\cdot 4\\cdot 8) - (3\\cdot 5\\cdot 7 + 1\\cdot 8\\cdot 6 + 9\\cdot 4\\cdot 2)\n",
    "=0$$"
   ]
  },
  {
   "cell_type": "code",
   "execution_count": 9,
   "metadata": {},
   "outputs": [
    {
     "name": "stdout",
     "output_type": "stream",
     "text": [
      "Определитель матрицы A равен  0.0\n"
     ]
    }
   ],
   "source": [
    "A = np.array([[1, 2, 3], [4, 5, 6], [7, 8, 9]])\n",
    "print(f'Определитель матрицы A равен  {np.linalg.det(A)}')"
   ]
  },
  {
   "cell_type": "markdown",
   "metadata": {},
   "source": [
    "### Задание 2"
   ]
  },
  {
   "cell_type": "markdown",
   "metadata": {},
   "source": [
    "___а.___\n",
    "\n",
    "Так как для двух квадратных матриц одинакового размера справедливо правило $det(A\\cdot B)=detA\\cdot detB.$, то при $detA=4$ :\n",
    "\n",
    "$$det(A^{2}) = det(A\\cdot A)= detA \\cdot detA = 4\\cdot 4=14$$\n",
    "\n",
    "___б.___\n",
    "\n",
    "Согласно первому свойству определителей - определитель транспонированной матрицы равен определителю исходной.\n",
    "\n",
    "Следовательно при $detA=4$ определитель $det(A^{T}) = det(A) = 4$\n",
    "\n",
    "___в.___\n",
    "\n",
    "Согласно правилу умножения матрицы на число:\n",
    "\n",
    "$$\n",
    "\\lambda\\cdot\\begin{pmatrix}\n",
    "a_{11} & a_{12} & \\cdots & a_{1n}\\\\ \n",
    "a_{21} & a_{22} & \\cdots & a_{2n}\\\\  \n",
    "\\cdots & \\cdots & \\ddots & \\cdots \\\\ \n",
    "a_{m1} & a_{m2} & \\cdots & a_{mn}\\\\ \n",
    "\\end{pmatrix}=\n",
    "\\begin{pmatrix}\n",
    "\\lambda a_{11} & \\lambda a_{12} & \\cdots & \\lambda a_{1n}\\\\ \n",
    "\\lambda a_{21} & \\lambda a_{22} & \\cdots & \\lambda a_{2n}\\\\  \n",
    "\\cdots & \\cdots & \\ddots & \\cdots \\\\ \n",
    "\\lambda a_{m1} & \\lambda a_{m2} & \\cdots & \\lambda a_{mn}\\\\ \n",
    "\\end{pmatrix}\n",
    "$$\n",
    "\n",
    "Также согласно свойству определителя матрицы, умножение строки или столбца матрицы на число $\\lambda$ приведет к умножению определителя матрицы на то же число:\n",
    "\n",
    "$$\n",
    "\\begin{vmatrix}\n",
    "\\lambda a_{11} & \\lambda a_{12} & \\cdots & \\lambda a_{1n} \\\\ \n",
    "a_{21} & a_{22} & \\cdots & a_{2n}\\\\  \n",
    "\\cdots & \\cdots & \\ddots & \\cdots \\\\ \n",
    "a_{n1} & a_{n2} & \\cdots & a_{nn}\\\\ \n",
    "\\end{vmatrix}=\n",
    "\\lambda \\cdot \\begin{vmatrix}\n",
    "a_{11} & a_{12} & \\cdots & a_{1n}\\\\ \n",
    "a_{21} & a_{22} & \\cdots & a_{2n}\\\\  \n",
    "\\cdots & \\cdots & \\ddots & \\cdots \\\\ \n",
    "a_{n1} & a_{n2} & \\cdots & a_{nn}\\\\ \n",
    "\\end{vmatrix}\n",
    "$$\n",
    "\n",
    "Следовательно, в случае нахождения определителя матрицы, умноженной на число, множитель каждой строки матрицы может быть вынесен столько раз, сколько соответствует размерности матрицы:\n",
    "\n",
    "$$\n",
    "det(\\lambda \\cdot A)=\n",
    "\\begin{vmatrix}\n",
    "\\lambda a_{11} & \\lambda a_{12} & \\cdots & \\lambda a_{1n} \\\\ \n",
    "\\lambda a_{21} & \\lambda a_{22} & \\cdots & \\lambda a_{2n}\\\\  \n",
    "\\cdots & \\cdots & \\ddots & \\cdots \\\\ \n",
    "\\lambda a_{n1} & \\lambda a_{n2} & \\cdots & \\lambda a_{nn}\\\\ \n",
    "\\end{vmatrix}=\n",
    "\\lambda \\cdot \\begin{vmatrix}\n",
    "a_{11} & a_{12} & \\cdots & a_{1n}\\\\ \n",
    "\\lambda a_{21} & \\lambda a_{22} & \\cdots & \\lambda a_{2n}\\\\  \n",
    "\\cdots & \\cdots & \\ddots & \\cdots \\\\ \n",
    "\\lambda a_{n1} & \\lambda a_{n2} & \\cdots & \\lambda a_{nn}\\\\ \n",
    "\\end{vmatrix}\n",
    "=\n",
    "\\lambda \\cdot \\lambda \\cdot \\begin{vmatrix}\n",
    "a_{11} & a_{12} & \\cdots & a_{1n}\\\\ \n",
    "a_{21} & a_{22} & \\cdots & a_{2n}\\\\  \n",
    "\\cdots & \\cdots & \\ddots & \\cdots \\\\ \n",
    "\\lambda a_{n1} & \\lambda a_{n2} & \\cdots & \\lambda a_{nn}\\\\ \n",
    "\\end{vmatrix} = \n",
    "$$\n",
    "\n",
    "$$\n",
    "=\\lambda ^n \\cdot\n",
    "\\begin{vmatrix}\n",
    "a_{11} & a_{12} & \\cdots & a_{1n}\\\\ \n",
    "\\lambda a_{21} & \\lambda a_{22} & \\cdots & \\lambda a_{2n}\\\\  \n",
    "\\cdots & \\cdots & \\ddots & \\cdots \\\\ \n",
    "\\lambda a_{n1} & \\lambda a_{n2} & \\cdots & \\lambda a_{nn}\\\\ \n",
    "\\end{vmatrix}=\n",
    "\\lambda ^n \\cdot det(A),\n",
    "$$\n",
    "где $n$ разрядность матрицы.\n",
    "\n",
    "Следовательно при $det(A)=4$ выражение $det(2A)=det(A)\\cdot 2^n=4\\cdot 2^n$.\n"
   ]
  },
  {
   "cell_type": "markdown",
   "metadata": {},
   "source": [
    "### Задание 3"
   ]
  },
  {
   "cell_type": "markdown",
   "metadata": {},
   "source": [
    "$$A =\n",
    "\\begin{pmatrix}\n",
    "-2 & 7 & -3\\\\ \n",
    "4 & -14 & 6\\\\ \n",
    "-3 & 7 & 13\n",
    "\\end{pmatrix}\n",
    "$$\n",
    "\n",
    "Вычтя из второй строки исходной матрицы перыую строку умноженную на 2, получим матрицу в которой все элементы второй строки равны 0:\n",
    "\n",
    "$$\n",
    "detA =\n",
    "\\begin{vmatrix}\n",
    "-2 & 7 & -3\\\\ \n",
    "4 & -14 & 6\\\\ \n",
    "-3 & 7 & 13\n",
    "\\end{vmatrix}\n",
    "=\n",
    "\\begin{vmatrix}\n",
    "-2 & 7 & -3\\\\ \n",
    "0 & 0 & 0\\\\ \n",
    "-3 & 7 & 13\n",
    "\\end{vmatrix}\n",
    "=0\n",
    "$$\n",
    "\n",
    "В случаях когда матрица имеет нулевую строку или нулевой столбец определитель матицы равен нулю. Следовательно матрица является __вырожденной__."
   ]
  },
  {
   "cell_type": "code",
   "execution_count": 10,
   "metadata": {},
   "outputs": [
    {
     "name": "stdout",
     "output_type": "stream",
     "text": [
      "Матрица A вырожденная.\n"
     ]
    }
   ],
   "source": [
    "A = np.array([[-2, 7, -3], [4, -14, 6], [-3, 7, 13]])\n",
    "if np.linalg.det(A):\n",
    "    print('Матрица A невырожденная.')\n",
    "else:\n",
    "    print('Матрица A вырожденная.')"
   ]
  },
  {
   "cell_type": "markdown",
   "metadata": {},
   "source": [
    "### Задание 4"
   ]
  },
  {
   "cell_type": "markdown",
   "metadata": {},
   "source": [
    "___а.___\n",
    "$$A=\\begin{pmatrix}\n",
    "1 & 2 & 3\\\\ \n",
    "1 & 1 & 1\\\\ \n",
    "2 & 3 & 4\n",
    "\\end{pmatrix}$$\n",
    "\n",
    "Третья строка матрицы A является суммой первых двух, следовательно может быть отброшена:\n",
    "\n",
    "$$\n",
    "A=\\begin{pmatrix}\n",
    "1 & 2 & 3\\\\ \n",
    "1 & 1 & 1\\\\ \n",
    "2 & 3 & 4\n",
    "\\end{pmatrix}\n",
    "=\n",
    "\\begin{pmatrix}\n",
    "1 & 2 & 3\\\\ \n",
    "1 & 1 & 1\n",
    "\\end{pmatrix}\n",
    "$$\n",
    "\n",
    "Поскольку есть минор 2-го порядка, отличный от нуля:\n",
    "\n",
    "$$\n",
    "\\begin{pmatrix}\n",
    "1 & 2\\\\ \n",
    "1 & 1\n",
    "\\end{pmatrix}\n",
    "=1-2=-1\n",
    "$$\n",
    "\n",
    "Следовательно $r(A)=2$"
   ]
  },
  {
   "cell_type": "code",
   "execution_count": 11,
   "metadata": {},
   "outputs": [
    {
     "name": "stdout",
     "output_type": "stream",
     "text": [
      "Ранг матрицы A равен: 2\n"
     ]
    }
   ],
   "source": [
    "A = np.array([[1, 2, 3], [1, 1, 1], [2, 3, 4]])\n",
    "print(f'Ранг матрицы A равен: {np.linalg.matrix_rank(A)}')"
   ]
  },
  {
   "cell_type": "markdown",
   "metadata": {},
   "source": [
    "___б.___\n",
    "$$A=\\begin{pmatrix}\n",
    "0 & 0 & 2 & 1\\\\ \n",
    "0 & 0 & 2 & 2\\\\ \n",
    "0 & 0 & 4 & 3\\\\ \n",
    "2 & 3 & 5 & 6\n",
    "\\end{pmatrix}$$\n",
    "\n",
    "Так как третий ряд является линейной комбинацией первого и второго рядов, его можно выбросить и провести ряд элементарных преобразований:\n",
    "\n",
    "$$\n",
    "\\begin{pmatrix}\n",
    "0 & 0 & 2 & 1\\\\ \n",
    "0 & 0 & 2 & 2\\\\ \n",
    "2 & 3 & 5 & 6\n",
    "\\end{pmatrix}\n",
    "=\n",
    "\\begin{pmatrix}\n",
    "0 & 0 & 0 & -1\\\\ \n",
    "0 & 0 & 2 & 2\\\\ \n",
    "2 & 3 & 5 & 6\n",
    "\\end{pmatrix}\n",
    "=\n",
    "\\begin{pmatrix}\n",
    "2 & 3 & 5 & 6\\\\ \n",
    "0 & 0 & 2 & 2\\\\ \n",
    "0 & 0 & 0 & -1\n",
    "\\end{pmatrix}\n",
    "$$\n",
    "\n",
    "Полученная матрица имеет 4 минора 3-го порядка, два из которых отличны от нуля. Следовательно __ранг матрицы равен 3__.\n",
    "\n",
    "\n",
    "$\n",
    "\\Delta =\n",
    "\\begin{vmatrix}\n",
    "2 & 3 & 5 \\\\ \n",
    "0 & 0 & 2 \\\\ \n",
    "0 & 0 & 0 \n",
    "\\end{vmatrix} = 0;\n",
    "$ \n",
    "$\n",
    "\\Delta =\n",
    "\\begin{vmatrix}\n",
    "2 & 3 & 6\\\\ \n",
    "0 & 0 & 2\\\\ \n",
    "0 & 0 & -1\n",
    "\\end{vmatrix} = 0;\n",
    "$\n",
    "$\n",
    "\\Delta =\n",
    "\\begin{vmatrix}\n",
    "2 & 5 & 6\\\\ \n",
    "0 & 2 & 2\\\\ \n",
    "0 & 0 & -1\n",
    "\\end{vmatrix} = -4;\n",
    "$\n",
    "$\n",
    "\\Delta =\n",
    "\\begin{vmatrix}\n",
    "3 & 5 & 6\\\\ \n",
    "0 & 2 & 2\\\\ \n",
    "0 & 0 & -1\n",
    "\\end{vmatrix} = -6\n",
    "$"
   ]
  },
  {
   "cell_type": "code",
   "execution_count": 12,
   "metadata": {},
   "outputs": [
    {
     "name": "stdout",
     "output_type": "stream",
     "text": [
      "Ранг матрицы A равен: 3\n"
     ]
    }
   ],
   "source": [
    "A = np.array([[0, 0, 2, 1], [0, 0, 2, 2], [0, 0, 4, 3], [2, 3, 5, 6]])\n",
    "print(f'Ранг матрицы A равен: {np.linalg.matrix_rank(A)}')"
   ]
  }
 ],
 "metadata": {
  "kernelspec": {
   "display_name": "Python 3",
   "language": "python",
   "name": "python3"
  },
  "language_info": {
   "codemirror_mode": {
    "name": "ipython",
    "version": 3
   },
   "file_extension": ".py",
   "mimetype": "text/x-python",
   "name": "python",
   "nbconvert_exporter": "python",
   "pygments_lexer": "ipython3",
   "version": "3.8.5"
  }
 },
 "nbformat": 4,
 "nbformat_minor": 4
}
