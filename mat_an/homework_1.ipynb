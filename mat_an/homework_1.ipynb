{
 "cells": [
  {
   "cell_type": "markdown",
   "metadata": {
    "id": "aU5YNMH9kVqP"
   },
   "source": [
    "## Практическое задание"
   ]
  },
  {
   "cell_type": "markdown",
   "metadata": {
    "id": "SmdURZ_OkVqQ"
   },
   "source": [
    "__1. Представьте в виде несократимой рациональной дроби:__\n",
    "\n",
    "$а)\\,\\,\\, 0.(216);$"
   ]
  },
  {
   "cell_type": "markdown",
   "metadata": {},
   "source": [
    "$$ a = 0.(216) $$\n",
    "\n",
    "$$ 1000a = 216.(216) = 216 + 0.(216) = 216 + a$$\n",
    "\n",
    "$$ 1000a - a = 216 $$\n",
    "\n",
    "$$ 999a = 216 $$\n",
    "\n",
    "$$ a = \\frac{216}{999} = \\frac{24}{111} $$"
   ]
  },
  {
   "cell_type": "markdown",
   "metadata": {},
   "source": [
    "$б)\\,\\,\\, 1.0(01).$"
   ]
  },
  {
   "cell_type": "markdown",
   "metadata": {},
   "source": [
    "$$ a = 1.0(01) $$\n",
    "\n",
    "$$ 10a = 10 + 0.(01)$$\n",
    "\n",
    "$$ b = 0.(01)$$\n",
    "\n",
    "$$ 10a = 10 + b $$\n",
    "\n",
    "$$ 100b = 1.(01) = 1 + 0.(01) = 1 + b $$\n",
    "\n",
    "$$ 99b = 1 $$\n",
    "\n",
    "$$ b = \\frac{1}{99} $$\n",
    "\n",
    "$$ 10a = 10 + \\frac{1}{99} = \\frac{990}{99} + \\frac{1}{99} = \\frac{991}{99}$$\n",
    "\n",
    "$$ a = \\frac{991}{990} $$"
   ]
  },
  {
   "cell_type": "markdown",
   "metadata": {
    "id": "sL2R25ZyLwJs"
   },
   "source": [
    "__2*.__ Пусть $x =\\frac{2}{21}$. Известно, что для некоторого натурального $k$ число $x$ записывается в $k$ - ичной системе счисления как $0.(13)_k = 0, 131313..._k$. Найдите $k$.\n"
   ]
  },
  {
   "cell_type": "markdown",
   "metadata": {
    "id": "Qd9FUA2kLwJt"
   },
   "source": [
    "__3. Проверьте любым способ, является ли данные логические формулы тавтологией:__\n",
    "\n",
    "$a)\\,\\,\\, (A \\vee B) \\rightarrow (B \\vee\\overline A)$"
   ]
  },
  {
   "cell_type": "markdown",
   "metadata": {},
   "source": [
    "|$$\\,\\,\\,A\\,\\,\\,$$|$$\\,\\,\\,B\\,\\,\\,$$|$$\\,\\,\\,\\overline A\\,\\,\\,$$|$$(A\\vee B)$$|$$(B \\vee \\overline A)$$|$$(A \\vee B) \\rightarrow (B \\vee\\overline A)$$|\n",
    "|:---:|:---:|:---:|:---:|:---:|:---:|\n",
    "|  0  |  0  |  1  |  0  |  1  |  1  |\n",
    "|  0  |  1  |  1  |  1  |  1  |  1  |\n",
    "|  1  |  0  |  0  |  1  |  0  |  0  |\n",
    "|  1  |  1  |  0  |  1  |  1  |  1  |\n",
    "\n",
    "Данная логическая формула не является тавтологией"
   ]
  },
  {
   "cell_type": "markdown",
   "metadata": {},
   "source": [
    "$б)\\,\\,\\, A \\rightarrow (A \\vee (\\overline B \\wedge A))$"
   ]
  },
  {
   "cell_type": "markdown",
   "metadata": {},
   "source": [
    "$$A \\rightarrow (A \\vee (\\overline B \\wedge A)) = A \\rightarrow (A \\vee (A \\wedge \\overline B)) = A \\rightarrow A$$\n",
    "\n",
    "|$$\\,\\,\\,A\\,\\,\\,$$|$$A \\rightarrow A$$|\n",
    "|:---:|:---:|\n",
    "|0|1     |\n",
    "|1|1     |\n",
    "\n",
    "Данная логическая формула не является тавтологией"
   ]
  },
  {
   "cell_type": "markdown",
   "metadata": {
    "id": "3oBZ-xlqLwJu"
   },
   "source": [
    "__4. Сформулируйте словесно высказывания:__\n",
    "- $A:\\,\\,\\,$ сегодня светит солнце; \n",
    "- $B:\\,\\,\\,$ сегодня сыро; \n",
    "- $C:\\,\\,\\,$ я поеду на дачу. "
   ]
  },
  {
   "cell_type": "markdown",
   "metadata": {},
   "source": [
    "$a)\\,\\,\\, (\\overline A \\vee B) \\rightarrow \\overline C$\n",
    "\n",
    "Если сегодня не светит солнце или сегодня сыро, то я не поеду на дачу."
   ]
  },
  {
   "cell_type": "markdown",
   "metadata": {},
   "source": [
    "$б)\\,\\,\\, C \\rightarrow (A \\vee \\overline B)$\n",
    "\n",
    "Если я поеду на дачу, то сегодня светит солнце или сегодня не сыро."
   ]
  },
  {
   "cell_type": "markdown",
   "metadata": {
    "id": "KgkAUcovLwJv"
   },
   "source": [
    "__5.  Пользуясь правилом построения противоположного высказывания, запишите утверждения, противоположные следующим:__\n",
    "\n",
    "a) \n",
    "\n",
    "На любом курсе каждого факультета есть студенты, сдающие все экзамены на «отлично».\n",
    "\n",
    "$\\exists$ студенты $\\in \\forall$ курс $ \\subset \\forall$ факультет   : (сдают $\\forall$ экзамены на отлично). "
   ]
  },
  {
   "cell_type": "markdown",
   "metadata": {},
   "source": [
    "Обратное выражение:\n",
    "\n",
    "$\\forall$ студенты $\\in \\exists$ курс $ \\subset \\exists$ факультет   : (не сдают $\\exists$ экзамены на отлично).\n",
    "\n",
    "Есть факультеты, где есть курсы, на которых все студенты не сдают экзамены на отлично."
   ]
  },
  {
   "cell_type": "markdown",
   "metadata": {},
   "source": [
    "б) \n",
    "\n",
    "В любом самолете на рейсе Вашингтон-Москва присутствует хотя бы один сотрудник силовых органов, в каждой пуговице одежды которого вмонтирован микрофон.\n",
    "\n",
    "$\\forall$ самолёт $\\in$ рейс Вашингтон-Москва:  ($\\exists$ сотрудник силовых органов, $\\forall$ пуговица одежды которого содержит микрофон)\n",
    "\n",
    "Обратное выражение:\n",
    "\n",
    "\n",
    "$\\exists$ самолёт $\\in$ рейс Вашингтон-Москва:  ($\\forall$ сотрудники силовых органов, $\\exists$ пуговицу одежды которая не содержит микрофон)\n",
    "\n",
    "Есть самолёты на рейсе Вашингтон-Москва, на которых все сотрудники силовых органов имеют пуговицу не содержащую встроенный микрофон."
   ]
  },
  {
   "cell_type": "markdown",
   "metadata": {
    "id": "ydKtcmhvLwJw"
   },
   "source": [
    "__6*.__ Прочитайте высказывания, установите их истинность и постройте противоположное высказывание:\n",
    "\n",
    "### $$a)\\,\\,\\, \\forall x\\in\\mathbb{R}\\,\\,\\,\\exists X\\in\\mathbb{R}:\\,\\,\\, X>x;$$\n",
    "### $$б)\\,\\,\\, \\forall y\\in\\Bigl[0; \\frac{\\pi}{2}\\Bigr]\\,\\,\\,\\exists \\varepsilon>0:\\,\\,\\, \\sin y<\\sin(y+\\varepsilon);$$\n",
    "### $$в)\\,\\,\\, \\forall y\\in\\Bigl[0; \\pi\\Bigr)\\,\\,\\,\\exists \\varepsilon>0:\\,\\,\\, \\cos y>\\cos(y+\\varepsilon).$$"
   ]
  }
 ],
 "metadata": {
  "colab": {
   "collapsed_sections": [],
   "name": "Lesson_2.ipynb",
   "provenance": []
  },
  "kernelspec": {
   "display_name": "Python 3",
   "language": "python",
   "name": "python3"
  },
  "language_info": {
   "codemirror_mode": {
    "name": "ipython",
    "version": 3
   },
   "file_extension": ".py",
   "mimetype": "text/x-python",
   "name": "python",
   "nbconvert_exporter": "python",
   "pygments_lexer": "ipython3",
   "version": "3.8.5"
  }
 },
 "nbformat": 4,
 "nbformat_minor": 1
}
